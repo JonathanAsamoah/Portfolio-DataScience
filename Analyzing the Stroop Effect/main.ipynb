{
 "cells": [
  {
   "cell_type": "markdown",
   "metadata": {},
   "source": [
    "# Project Description:"
   ]
  },
  {
   "cell_type": "markdown",
   "metadata": {},
   "source": [
    "In this project data of a Stroop task is analyzed. To evaluate if the phenomenon called [Stroop effect](https://en.wikipedia.org/wiki/Stroop_effect) is present in the data.\n",
    "\n",
    "Therefore, a statistical analyses of the data is done and based on this a statistical test is used to determine if there is a difference of the results before the using incongruent words condition and after.\n",
    "\n",
    "The [dataset](https://www.google.com/url?q=https://drive.google.com/file/d/0B9Yf01UaIbUgQXpYb2NhZ29yX1U/view?usp%3Dsharing&sa=D&ust=1485701730039000&usg=AFQjCNGwMaCWnQ8lZfV8LEmhI_b6mdfQ7Q) used is provided by [Udacity](https://www.udacity.com) and based on user generated data generated with [this](https://www.google.com/url?q=https://faculty.washington.edu/chudler/java/ready.html&sa=D&ust=1485720053610000&usg=AFQjCNEc-18vt7XmOQUPo0gSAbg9kncEKg) applet."
   ]
  },
  {
   "cell_type": "markdown",
   "metadata": {},
   "source": [
    "## Point of Analyses"
   ]
  },
  {
   "cell_type": "markdown",
   "metadata": {},
   "source": [
    "The analyses in this project concentrates on the questions: \n",
    "* Is the effect called Stroop effect present in the dataset provided by Udactiy "
   ]
  },
  {
   "cell_type": "markdown",
   "metadata": {},
   "source": [
    "# Import Libaries"
   ]
  },
  {
   "cell_type": "code",
   "execution_count": 1,
   "metadata": {
    "collapsed": false
   },
   "outputs": [],
   "source": [
    "import os\n",
    "import io\n",
    "import urllib.request\n",
    "\n",
    "from IPython.display import display\n",
    "\n",
    "import pandas as pd\n",
    "import numpy as np\n",
    "\n",
    "from scipy import stats\n",
    "import statsmodels.stats.api as sms\n",
    "\n",
    "import matplotlib.pyplot as plt\n",
    "import seaborn as sns\n",
    "%matplotlib inline"
   ]
  },
  {
   "cell_type": "markdown",
   "metadata": {},
   "source": [
    "# Set Global Variables"
   ]
  },
  {
   "cell_type": "code",
   "execution_count": 3,
   "metadata": {
    "collapsed": false
   },
   "outputs": [],
   "source": [
    "URL = 'https://drive.google.com/uc?export=download&id=0B9Yf01UaIbUgQXpYb2NhZ29yX1U'\n",
    "DATASET_NAME = 'stroopdata.csv'\n",
    "DATASET_PATH = 'data/' + DATASET_NAME"
   ]
  },
  {
   "cell_type": "markdown",
   "metadata": {},
   "source": [
    "# Project Preparation"
   ]
  },
  {
   "cell_type": "markdown",
   "metadata": {},
   "source": [
    "## Download the data"
   ]
  },
  {
   "cell_type": "code",
   "execution_count": 4,
   "metadata": {
    "collapsed": false
   },
   "outputs": [],
   "source": [
    "def download_csv_data(url, filename):\n",
    "    \"\"\"Download a csv file and stores it in the data folder of the project repository.\n",
    "\n",
    "    Args:\n",
    "        URL of the csv file\n",
    "\n",
    "    Returns:\n",
    "        None\n",
    "    \"\"\"\n",
    "    if not os.path.exists('data/'):\n",
    "        os.makedirs('data/')\n",
    "    \n",
    "    file = urllib.request.urlopen(url)\n",
    "\n",
    "    df = pd.read_csv(io.TextIOWrapper(file))\n",
    "\n",
    "    path = 'data/' + filename\n",
    "    df.to_csv(path, header=True, index=False, sep=',')\n",
    "\n",
    "\"\"\"\n",
    "Downloads the data to the data folder of a local repository after you run it once you can uncomment this lines.\n",
    "To prevent the code from downloading the data every time you run the code.\n",
    "\"\"\"\n",
    "download_csv_data(URL, DATASET_NAME)"
   ]
  },
  {
   "cell_type": "markdown",
   "metadata": {},
   "source": [
    "# Load the Dataset"
   ]
  },
  {
   "cell_type": "code",
   "execution_count": 5,
   "metadata": {
    "collapsed": false
   },
   "outputs": [
    {
     "data": {
      "text/html": [
       "<div>\n",
       "<table border=\"1\" class=\"dataframe\">\n",
       "  <thead>\n",
       "    <tr style=\"text-align: right;\">\n",
       "      <th></th>\n",
       "      <th>Congruent</th>\n",
       "      <th>Incongruent</th>\n",
       "    </tr>\n",
       "  </thead>\n",
       "  <tbody>\n",
       "    <tr>\n",
       "      <th>0</th>\n",
       "      <td>12.079</td>\n",
       "      <td>19.278</td>\n",
       "    </tr>\n",
       "    <tr>\n",
       "      <th>1</th>\n",
       "      <td>16.791</td>\n",
       "      <td>18.741</td>\n",
       "    </tr>\n",
       "    <tr>\n",
       "      <th>2</th>\n",
       "      <td>9.564</td>\n",
       "      <td>21.214</td>\n",
       "    </tr>\n",
       "    <tr>\n",
       "      <th>3</th>\n",
       "      <td>8.630</td>\n",
       "      <td>15.687</td>\n",
       "    </tr>\n",
       "    <tr>\n",
       "      <th>4</th>\n",
       "      <td>14.669</td>\n",
       "      <td>22.803</td>\n",
       "    </tr>\n",
       "  </tbody>\n",
       "</table>\n",
       "</div>"
      ],
      "text/plain": [
       "   Congruent  Incongruent\n",
       "0     12.079       19.278\n",
       "1     16.791       18.741\n",
       "2      9.564       21.214\n",
       "3      8.630       15.687\n",
       "4     14.669       22.803"
      ]
     },
     "metadata": {},
     "output_type": "display_data"
    }
   ],
   "source": [
    "# Load the data as df in the var data\n",
    "data = pd.read_csv(DATASET_PATH)\n",
    "# Inspect the first 5 rows of the dataset\n",
    "display(data.head())"
   ]
  },
  {
   "cell_type": "markdown",
   "metadata": {},
   "source": [
    "# Definition of the Test"
   ]
  },
  {
   "cell_type": "markdown",
   "metadata": {},
   "source": [
    "## Research question"
   ]
  },
  {
   "cell_type": "markdown",
   "metadata": {},
   "source": [
    "Is there a difference for the time needed fot the two conditions?"
   ]
  },
  {
   "cell_type": "markdown",
   "metadata": {},
   "source": [
    "## Identify the independent and dependent  variable"
   ]
  },
  {
   "cell_type": "markdown",
   "metadata": {},
   "source": [
    "Based on the test setup the independent and dependent variable are:\n",
    "* The independent variable is: the word color congruency condition\n",
    "* The dependent variable is:  observed time taken for each individual to name the ink color"
   ]
  },
  {
   "cell_type": "markdown",
   "metadata": {},
   "source": [
    "## Define a set of hypotheses"
   ]
  },
  {
   "cell_type": "markdown",
   "metadata": {},
   "source": [
    "The test should show if there is a difference, with a type I error of 5% between the time needed for the two conditions:  \n",
    "* Congruent words condition\n",
    "* Incongruent words condition \n",
    "\n",
    "Therfore, the hypotheses are:  \n",
    "\n",
    "$\\alpha = 5\\%$ \n",
    "\n",
    "$H_0: \\mu_C - \\mu_I = 0$  \n",
    "The population mean of the congruent words condition is equal to the population mean of the incongruent words condition.\n",
    "\n",
    "$H_1: \\mu_C - \\mu_I \\neq 0$  \n",
    "The population mean of the congruent words condition is not equal to the population mean of the incongruent words condition.\n"
   ]
  },
  {
   "cell_type": "markdown",
   "metadata": {},
   "source": [
    "# Analyse the Dataset"
   ]
  },
  {
   "cell_type": "markdown",
   "metadata": {},
   "source": [
    "## Analyse the Congruent column"
   ]
  },
  {
   "cell_type": "markdown",
   "metadata": {},
   "source": [
    "### Calculate point estimators"
   ]
  },
  {
   "cell_type": "code",
   "execution_count": 6,
   "metadata": {
    "collapsed": false
   },
   "outputs": [
    {
     "data": {
      "text/plain": [
       "0    12.079\n",
       "1    16.791\n",
       "2     9.564\n",
       "3     8.630\n",
       "4    14.669\n",
       "Name: Congruent, dtype: float64"
      ]
     },
     "metadata": {},
     "output_type": "display_data"
    },
    {
     "name": "stdout",
     "output_type": "stream",
     "text": [
      "Mean: 14.051125000000004\n",
      "Median: 14.3565\n",
      "Varianz: 12.669029070652176\n",
      "Standard Deviation: 3.5593579576451955\n"
     ]
    }
   ],
   "source": [
    "# Print the values of the variable\n",
    "display(data['Congruent'].head())\n",
    "\n",
    "# Print the central tendency measure mean\n",
    "print('Mean: ' + str(data['Congruent'].mean()))\n",
    "\n",
    "# Print the central tendency measure median\n",
    "print('Median: ' + str(data['Congruent'].median()))\n",
    "# Print the variability measure varianz\n",
    "print('Varianz: ' + str(data['Congruent'].var()))\n",
    "\n",
    "# Print the variability measure standard deviation\n",
    "print('Standard Deviation: ' + str(data['Congruent'].std()))"
   ]
  },
  {
   "cell_type": "markdown",
   "metadata": {},
   "source": [
    "### Visualize the distribuition of the Congruent column"
   ]
  },
  {
   "cell_type": "markdown",
   "metadata": {},
   "source": [
    "### Boxplot"
   ]
  },
  {
   "cell_type": "code",
   "execution_count": 7,
   "metadata": {
    "collapsed": false
   },
   "outputs": [
    {
     "data": {
      "image/png": "[encoded data removed]",
      "text/plain": [
       "<matplotlib.figure.Figure at 0x125afbde940>"
      ]
     },
     "metadata": {},
     "output_type": "display_data"
    }
   ],
   "source": [
    "data.boxplot(column='Congruent')\n",
    "plt.show()"
   ]
  },
  {
   "cell_type": "markdown",
   "metadata": {},
   "source": [
    "### Histogram"
   ]
  },
  {
   "cell_type": "code",
   "execution_count": 8,
   "metadata": {
    "collapsed": false
   },
   "outputs": [
    {
     "data": {
      "image/png": "[encoded data removed]",
      "text/plain": [
       "<matplotlib.figure.Figure at 0x125b005cfd0>"
      ]
     },
     "metadata": {},
     "output_type": "display_data"
    }
   ],
   "source": [
    "data.hist(column='Congruent', bins=8, grid=False)\n",
    "plt.show()"
   ]
  },
  {
   "cell_type": "markdown",
   "metadata": {},
   "source": [
    "## Analyse the Incongruent column"
   ]
  },
  {
   "cell_type": "markdown",
   "metadata": {},
   "source": [
    "### Calculate point estimators"
   ]
  },
  {
   "cell_type": "code",
   "execution_count": 9,
   "metadata": {
    "collapsed": false
   },
   "outputs": [
    {
     "data": {
      "text/plain": [
       "0    19.278\n",
       "1    18.741\n",
       "2    21.214\n",
       "3    15.687\n",
       "4    22.803\n",
       "Name: Incongruent, dtype: float64"
      ]
     },
     "metadata": {},
     "output_type": "display_data"
    },
    {
     "name": "stdout",
     "output_type": "stream",
     "text": [
      "Mean: 22.01591666666667\n",
      "Median: 21.0175\n",
      "Varianz: 23.01175703623189\n",
      "Standard Deviation: 4.7970571224691385\n"
     ]
    }
   ],
   "source": [
    "# Print the values of the variable\n",
    "display(data['Incongruent'].head())\n",
    "\n",
    "# Print the central tendency measure mean\n",
    "print('Mean: ' + str(data['Incongruent'].mean()))\n",
    "\n",
    "# Print the central tendency measure median\n",
    "print('Median: ' + str(data['Incongruent'].median()))\n",
    "\n",
    "# Print the variability measure varianz\n",
    "print('Varianz: ' + str(data['Incongruent'].var()))\n",
    "\n",
    "# Print the variability measure standard deviation\n",
    "print('Standard Deviation: ' + str(data['Incongruent'].std()))"
   ]
  },
  {
   "cell_type": "markdown",
   "metadata": {},
   "source": [
    "### Visualize the distribuition of the Incongruent column"
   ]
  },
  {
   "cell_type": "markdown",
   "metadata": {},
   "source": [
    "### Boxplot"
   ]
  },
  {
   "cell_type": "code",
   "execution_count": 10,
   "metadata": {
    "collapsed": false
   },
   "outputs": [
    {
     "data": {
      "image/png": "[encoded data removed]",
      "text/plain": [
       "<matplotlib.figure.Figure at 0x125b0139908>"
      ]
     },
     "metadata": {},
     "output_type": "display_data"
    }
   ],
   "source": [
    "data.boxplot(column='Incongruent')\n",
    "plt.show()"
   ]
  },
  {
   "cell_type": "markdown",
   "metadata": {},
   "source": [
    "### Histogram"
   ]
  },
  {
   "cell_type": "code",
   "execution_count": 11,
   "metadata": {
    "collapsed": false
   },
   "outputs": [
    {
     "data": {
      "image/png": "[encoded data removed]",
      "text/plain": [
       "<matplotlib.figure.Figure at 0x125b0154e80>"
      ]
     },
     "metadata": {},
     "output_type": "display_data"
    }
   ],
   "source": [
    "data.hist(column='Incongruent', bins=8, grid=False)\n",
    "plt.show()"
   ]
  },
  {
   "cell_type": "markdown",
   "metadata": {},
   "source": [
    "### Results of analysis"
   ]
  },
  {
   "cell_type": "markdown",
   "metadata": {},
   "source": [
    "The plots show that the data of the congruent words condition is normal distributed with a mean of 14.051 and also the the data of the incongruent words condition is normal distributed with a mean of 22.016, but contains some extreme outliers to the top."
   ]
  },
  {
   "cell_type": "markdown",
   "metadata": {},
   "source": [
    "# Statistical test"
   ]
  },
  {
   "cell_type": "markdown",
   "metadata": {},
   "source": [
    "## Decide for an statistical test"
   ]
  },
  {
   "cell_type": "markdown",
   "metadata": {},
   "source": [
    "We test for the difference of the two samples. As the Stroop task results in n paried data. So we use the a sample test.  \n",
    "As the sample size is relativly small we can't assume that the sampling distribution of the mean will be approximately normally distributed irrespective of the shape of the population distribution. So we don't use a t-test, not a Z-Test.\n",
    "As the the sample is used to produce diffference scores through repeated measurement, we use the t-Test for dependent means."
   ]
  },
  {
   "cell_type": "markdown",
   "metadata": {},
   "source": [
    "## Calculate the CV for alpha = 0.05"
   ]
  },
  {
   "cell_type": "code",
   "execution_count": 12,
   "metadata": {
    "collapsed": false
   },
   "outputs": [
    {
     "name": "stdout",
     "output_type": "stream",
     "text": [
      "CV: 1.71387152775\n"
     ]
    }
   ],
   "source": [
    "cirtical_value = stats.t.ppf(1-0.05, len(data)-1)\n",
    "print('CV: ' +str(cirtical_value))"
   ]
  },
  {
   "cell_type": "markdown",
   "metadata": {},
   "source": [
    "## Calculate the 95% CI"
   ]
  },
  {
   "cell_type": "code",
   "execution_count": 13,
   "metadata": {
    "collapsed": false
   },
   "outputs": [
    {
     "name": "stdout",
     "output_type": "stream",
     "text": [
      "95% CI: (-10.424698188163974, -5.5048851451693626)\n"
     ]
    }
   ],
   "source": [
    "cm = sms.CompareMeans(sms.DescrStatsW(data['Congruent']), sms.DescrStatsW(data['Incongruent']))\n",
    "print('95% CI: ' + str(cm.tconfint_diff(usevar='unequal')))"
   ]
  },
  {
   "cell_type": "markdown",
   "metadata": {},
   "source": [
    "## Run the t-test"
   ]
  },
  {
   "cell_type": "code",
   "execution_count": 14,
   "metadata": {
    "collapsed": false
   },
   "outputs": [
    {
     "name": "stdout",
     "output_type": "stream",
     "text": [
      "p-value: 2.05150029286e-08\n"
     ]
    }
   ],
   "source": [
    "statistic, pvalue = stats.ttest_rel(data['Congruent'],data['Incongruent'])\n",
    "one_side_pvalue = pvalue/2\n",
    "print('p-value: ' + str(one_side_pvalue))"
   ]
  },
  {
   "cell_type": "markdown",
   "metadata": {},
   "source": [
    "As the p-value is extremly small there is strong evidence against the null hypothesis that incongruent words condition do not effect the time needed to complete the task.\n",
    "Therefore, we reject $H_0$"
   ]
  }
 ],
 "metadata": {
  "anaconda-cloud": {},
  "kernelspec": {
   "display_name": "Python 3",
   "language": "python",
   "name": "python3"
  },
  "language_info": {
   "codemirror_mode": {
    "name": "ipython",
    "version": 3
   },
   "file_extension": ".py",
   "mimetype": "text/x-python",
   "name": "python",
   "nbconvert_exporter": "python",
   "pygments_lexer": "ipython3",
   "version": "3.6.0"
  }
 },
 "nbformat": 4,
 "nbformat_minor": 1
}
