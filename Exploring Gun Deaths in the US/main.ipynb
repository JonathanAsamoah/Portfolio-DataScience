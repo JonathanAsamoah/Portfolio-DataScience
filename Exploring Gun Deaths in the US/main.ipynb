{
 "cells": [
  {
   "cell_type": "markdown",
   "metadata": {},
   "source": [
    "# Project Description"
   ]
  },
  {
   "cell_type": "markdown",
   "metadata": {
    "collapsed": true
   },
   "source": [
    "In this project the gun deaths in the US for the years 2012 to 2014 are analyzed.\n",
    "\n",
    "The dataset used in this project is provided by [FiveThirtyEight](https://www.fivethirtyeight.com/). The documentation and the dataset can be accessed [here](https://github.com/fivethirtyeight/guns-data).  \n",
    "Also the Census data is used to evalute gun deaths in relation to race categories. The Census dataset is not aviable online so it is provided wihtin the repository."
   ]
  },
  {
   "cell_type": "markdown",
   "metadata": {},
   "source": [
    "# Import Libaries"
   ]
  },
  {
   "cell_type": "code",
   "execution_count": 1,
   "metadata": {
    "collapsed": false
   },
   "outputs": [],
   "source": [
    "import io\n",
    "import os\n",
    "import urllib.request\n",
    "\n",
    "from IPython.display import display\n",
    "\n",
    "import pandas as pd\n",
    "\n",
    "from datetime import datetime"
   ]
  },
  {
   "cell_type": "markdown",
   "metadata": {},
   "source": [
    "# Set Global Varibles"
   ]
  },
  {
   "cell_type": "code",
   "execution_count": 2,
   "metadata": {
    "collapsed": false
   },
   "outputs": [],
   "source": [
    "URL = 'https://raw.githubusercontent.com/fivethirtyeight/guns-data/master/full_data.csv'\n",
    "PATH_DATASET = 'data/' + URL.split('/')[-1]\n",
    "\n",
    "### Link to census dataset is not aviable \n",
    "### Therfore it is provided inside the dataset\n",
    "#URL_CDC = 'https://raw.githubusercontent.com/nprapps/katrina-maps/master/data/populations-estimates/PEP_2014_PEPSR6H/PEP_2014_PEPSR6H_with_ann.csv'\n",
    "#PATH_DATASET_CDC = 'data/' + URL_CDC.split('/')[-1]\n",
    "PATH_DATASET_CDC = 'data/census.csv'"
   ]
  },
  {
   "cell_type": "markdown",
   "metadata": {},
   "source": [
    "# Project Preperation"
   ]
  },
  {
   "cell_type": "markdown",
   "metadata": {},
   "source": [
    "## Download the data"
   ]
  },
  {
   "cell_type": "code",
   "execution_count": 3,
   "metadata": {
    "collapsed": false
   },
   "outputs": [],
   "source": [
    "def download_github_csv_data(url):\n",
    "    \"\"\"Download a csv file and stores it in the data folder of the project repository.\n",
    "\n",
    "    Args:\n",
    "        URL of the csv file\n",
    "\n",
    "    Returns:\n",
    "        None\n",
    "    \"\"\"\n",
    "    ### Create data dir if not exts\n",
    "    if not os.path.exists('data/'):\n",
    "        os.makedirs('data/')\n",
    "\n",
    "    file = urllib.request.urlopen(url)\n",
    "\n",
    "    df = pd.read_csv(io.TextIOWrapper(file))\n",
    "\n",
    "    filename = url.split('/')[-1]\n",
    "    path = 'data/' + filename\n",
    "    df.to_csv(path, header=True, index=False, sep=',')\n",
    "\n",
    "\"\"\"\n",
    "Downloads the data to the data folder of a local repository after you run it once you can uncomment this lines.\n",
    "To prevent the code from downloading the data every time you run the code.\n",
    "\"\"\"            \n",
    "download_github_csv_data(URL)\n",
    "### Not avilable at the moment\n",
    "#download_github_csv_data(URL_CDC)"
   ]
  },
  {
   "cell_type": "markdown",
   "metadata": {},
   "source": [
    "## Load the guns dataset"
   ]
  },
  {
   "cell_type": "code",
   "execution_count": 4,
   "metadata": {
    "collapsed": false
   },
   "outputs": [
    {
     "data": {
      "text/html": [
       "<div>\n",
       "<table border=\"1\" class=\"dataframe\">\n",
       "  <thead>\n",
       "    <tr style=\"text-align: right;\">\n",
       "      <th></th>\n",
       "      <th>Unnamed: 0</th>\n",
       "      <th>year</th>\n",
       "      <th>month</th>\n",
       "      <th>intent</th>\n",
       "      <th>police</th>\n",
       "      <th>sex</th>\n",
       "      <th>age</th>\n",
       "      <th>race</th>\n",
       "      <th>hispanic</th>\n",
       "      <th>place</th>\n",
       "      <th>education</th>\n",
       "    </tr>\n",
       "  </thead>\n",
       "  <tbody>\n",
       "    <tr>\n",
       "      <th>0</th>\n",
       "      <td>1</td>\n",
       "      <td>2012</td>\n",
       "      <td>1</td>\n",
       "      <td>Suicide</td>\n",
       "      <td>0</td>\n",
       "      <td>M</td>\n",
       "      <td>34.0</td>\n",
       "      <td>Asian/Pacific Islander</td>\n",
       "      <td>100</td>\n",
       "      <td>Home</td>\n",
       "      <td>4.0</td>\n",
       "    </tr>\n",
       "    <tr>\n",
       "      <th>1</th>\n",
       "      <td>2</td>\n",
       "      <td>2012</td>\n",
       "      <td>1</td>\n",
       "      <td>Suicide</td>\n",
       "      <td>0</td>\n",
       "      <td>F</td>\n",
       "      <td>21.0</td>\n",
       "      <td>White</td>\n",
       "      <td>100</td>\n",
       "      <td>Street</td>\n",
       "      <td>3.0</td>\n",
       "    </tr>\n",
       "    <tr>\n",
       "      <th>2</th>\n",
       "      <td>3</td>\n",
       "      <td>2012</td>\n",
       "      <td>1</td>\n",
       "      <td>Suicide</td>\n",
       "      <td>0</td>\n",
       "      <td>M</td>\n",
       "      <td>60.0</td>\n",
       "      <td>White</td>\n",
       "      <td>100</td>\n",
       "      <td>Other specified</td>\n",
       "      <td>4.0</td>\n",
       "    </tr>\n",
       "    <tr>\n",
       "      <th>3</th>\n",
       "      <td>4</td>\n",
       "      <td>2012</td>\n",
       "      <td>2</td>\n",
       "      <td>Suicide</td>\n",
       "      <td>0</td>\n",
       "      <td>M</td>\n",
       "      <td>64.0</td>\n",
       "      <td>White</td>\n",
       "      <td>100</td>\n",
       "      <td>Home</td>\n",
       "      <td>4.0</td>\n",
       "    </tr>\n",
       "    <tr>\n",
       "      <th>4</th>\n",
       "      <td>5</td>\n",
       "      <td>2012</td>\n",
       "      <td>2</td>\n",
       "      <td>Suicide</td>\n",
       "      <td>0</td>\n",
       "      <td>M</td>\n",
       "      <td>31.0</td>\n",
       "      <td>White</td>\n",
       "      <td>100</td>\n",
       "      <td>Other specified</td>\n",
       "      <td>2.0</td>\n",
       "    </tr>\n",
       "  </tbody>\n",
       "</table>\n",
       "</div>"
      ],
      "text/plain": [
       "   Unnamed: 0  year  month   intent  police sex   age                    race  \\\n",
       "0           1  2012      1  Suicide       0   M  34.0  Asian/Pacific Islander   \n",
       "1           2  2012      1  Suicide       0   F  21.0                   White   \n",
       "2           3  2012      1  Suicide       0   M  60.0                   White   \n",
       "3           4  2012      2  Suicide       0   M  64.0                   White   \n",
       "4           5  2012      2  Suicide       0   M  31.0                   White   \n",
       "\n",
       "   hispanic            place  education  \n",
       "0       100             Home        4.0  \n",
       "1       100           Street        3.0  \n",
       "2       100  Other specified        4.0  \n",
       "3       100             Home        4.0  \n",
       "4       100  Other specified        2.0  "
      ]
     },
     "metadata": {},
     "output_type": "display_data"
    }
   ],
   "source": [
    "### Load the data as df in the var data\n",
    "data = pd.read_csv(PATH_DATASET)\n",
    "### Inspect the first 5 rows of the dataset\n",
    "display(data.head())"
   ]
  },
  {
   "cell_type": "markdown",
   "metadata": {},
   "source": [
    "## Load the cdc dataset"
   ]
  },
  {
   "cell_type": "code",
   "execution_count": 5,
   "metadata": {
    "collapsed": false
   },
   "outputs": [
    {
     "data": {
      "text/html": [
       "<div>\n",
       "<table border=\"1\" class=\"dataframe\">\n",
       "  <thead>\n",
       "    <tr style=\"text-align: right;\">\n",
       "      <th></th>\n",
       "      <th>Id</th>\n",
       "      <th>Year</th>\n",
       "      <th>Id.1</th>\n",
       "      <th>Sex</th>\n",
       "      <th>Id.2</th>\n",
       "      <th>Hispanic Origin</th>\n",
       "      <th>Id.3</th>\n",
       "      <th>Id2</th>\n",
       "      <th>Geography</th>\n",
       "      <th>Total</th>\n",
       "      <th>Race Alone - White</th>\n",
       "      <th>Race Alone - Hispanic</th>\n",
       "      <th>Race Alone - Black or African American</th>\n",
       "      <th>Race Alone - American Indian and Alaska Native</th>\n",
       "      <th>Race Alone - Asian</th>\n",
       "      <th>Race Alone - Native Hawaiian and Other Pacific Islander</th>\n",
       "      <th>Two or More Races</th>\n",
       "    </tr>\n",
       "  </thead>\n",
       "  <tbody>\n",
       "    <tr>\n",
       "      <th>0</th>\n",
       "      <td>cen42010</td>\n",
       "      <td>April 1, 2010 Census</td>\n",
       "      <td>totsex</td>\n",
       "      <td>Both Sexes</td>\n",
       "      <td>tothisp</td>\n",
       "      <td>Total</td>\n",
       "      <td>0100000US</td>\n",
       "      <td>NaN</td>\n",
       "      <td>United States</td>\n",
       "      <td>308745538</td>\n",
       "      <td>197318956</td>\n",
       "      <td>44618105</td>\n",
       "      <td>40250635</td>\n",
       "      <td>3739506</td>\n",
       "      <td>15159516</td>\n",
       "      <td>674625</td>\n",
       "      <td>6984195</td>\n",
       "    </tr>\n",
       "  </tbody>\n",
       "</table>\n",
       "</div>"
      ],
      "text/plain": [
       "         Id                  Year    Id.1         Sex     Id.2  \\\n",
       "0  cen42010  April 1, 2010 Census  totsex  Both Sexes  tothisp   \n",
       "\n",
       "  Hispanic Origin       Id.3  Id2      Geography      Total  \\\n",
       "0           Total  0100000US  NaN  United States  308745538   \n",
       "\n",
       "   Race Alone - White  Race Alone - Hispanic  \\\n",
       "0           197318956               44618105   \n",
       "\n",
       "   Race Alone - Black or African American  \\\n",
       "0                                40250635   \n",
       "\n",
       "   Race Alone - American Indian and Alaska Native  Race Alone - Asian  \\\n",
       "0                                         3739506            15159516   \n",
       "\n",
       "   Race Alone - Native Hawaiian and Other Pacific Islander  Two or More Races  \n",
       "0                                             674625                  6984195  "
      ]
     },
     "metadata": {},
     "output_type": "display_data"
    }
   ],
   "source": [
    "### Load the data as df in the var data\n",
    "data_census = pd.read_csv(PATH_DATASET_CDC)\n",
    "### Inspect the first 5 rows of the dataset\n",
    "display(data_census.head())"
   ]
  },
  {
   "cell_type": "markdown",
   "metadata": {},
   "source": [
    "# Analysis"
   ]
  },
  {
   "cell_type": "markdown",
   "metadata": {},
   "source": [
    "## Analysis guns dataset"
   ]
  },
  {
   "cell_type": "markdown",
   "metadata": {},
   "source": [
    "### Inspect deaths per year"
   ]
  },
  {
   "cell_type": "code",
   "execution_count": 6,
   "metadata": {
    "collapsed": false
   },
   "outputs": [
    {
     "name": "stdout",
     "output_type": "stream",
     "text": [
      "2013    33636\n",
      "2014    33599\n",
      "2012    33563\n",
      "Name: year, dtype: int64\n"
     ]
    }
   ],
   "source": [
    "print(data['year'].value_counts())"
   ]
  },
  {
   "cell_type": "markdown",
   "metadata": {},
   "source": [
    "### Generate a column year_month that contains a reformated date"
   ]
  },
  {
   "cell_type": "code",
   "execution_count": 7,
   "metadata": {
    "collapsed": false
   },
   "outputs": [
    {
     "data": {
      "text/html": [
       "<div>\n",
       "<table border=\"1\" class=\"dataframe\">\n",
       "  <thead>\n",
       "    <tr style=\"text-align: right;\">\n",
       "      <th></th>\n",
       "      <th>Unnamed: 0</th>\n",
       "      <th>year</th>\n",
       "      <th>month</th>\n",
       "      <th>intent</th>\n",
       "      <th>police</th>\n",
       "      <th>sex</th>\n",
       "      <th>age</th>\n",
       "      <th>race</th>\n",
       "      <th>hispanic</th>\n",
       "      <th>place</th>\n",
       "      <th>education</th>\n",
       "      <th>year_month</th>\n",
       "    </tr>\n",
       "  </thead>\n",
       "  <tbody>\n",
       "    <tr>\n",
       "      <th>0</th>\n",
       "      <td>1</td>\n",
       "      <td>2012</td>\n",
       "      <td>1</td>\n",
       "      <td>Suicide</td>\n",
       "      <td>0</td>\n",
       "      <td>M</td>\n",
       "      <td>34.0</td>\n",
       "      <td>Asian/Pacific Islander</td>\n",
       "      <td>100</td>\n",
       "      <td>Home</td>\n",
       "      <td>4.0</td>\n",
       "      <td>2012-01-01</td>\n",
       "    </tr>\n",
       "    <tr>\n",
       "      <th>1</th>\n",
       "      <td>2</td>\n",
       "      <td>2012</td>\n",
       "      <td>1</td>\n",
       "      <td>Suicide</td>\n",
       "      <td>0</td>\n",
       "      <td>F</td>\n",
       "      <td>21.0</td>\n",
       "      <td>White</td>\n",
       "      <td>100</td>\n",
       "      <td>Street</td>\n",
       "      <td>3.0</td>\n",
       "      <td>2012-01-01</td>\n",
       "    </tr>\n",
       "    <tr>\n",
       "      <th>2</th>\n",
       "      <td>3</td>\n",
       "      <td>2012</td>\n",
       "      <td>1</td>\n",
       "      <td>Suicide</td>\n",
       "      <td>0</td>\n",
       "      <td>M</td>\n",
       "      <td>60.0</td>\n",
       "      <td>White</td>\n",
       "      <td>100</td>\n",
       "      <td>Other specified</td>\n",
       "      <td>4.0</td>\n",
       "      <td>2012-01-01</td>\n",
       "    </tr>\n",
       "    <tr>\n",
       "      <th>3</th>\n",
       "      <td>4</td>\n",
       "      <td>2012</td>\n",
       "      <td>2</td>\n",
       "      <td>Suicide</td>\n",
       "      <td>0</td>\n",
       "      <td>M</td>\n",
       "      <td>64.0</td>\n",
       "      <td>White</td>\n",
       "      <td>100</td>\n",
       "      <td>Home</td>\n",
       "      <td>4.0</td>\n",
       "      <td>2012-02-01</td>\n",
       "    </tr>\n",
       "    <tr>\n",
       "      <th>4</th>\n",
       "      <td>5</td>\n",
       "      <td>2012</td>\n",
       "      <td>2</td>\n",
       "      <td>Suicide</td>\n",
       "      <td>0</td>\n",
       "      <td>M</td>\n",
       "      <td>31.0</td>\n",
       "      <td>White</td>\n",
       "      <td>100</td>\n",
       "      <td>Other specified</td>\n",
       "      <td>2.0</td>\n",
       "      <td>2012-02-01</td>\n",
       "    </tr>\n",
       "  </tbody>\n",
       "</table>\n",
       "</div>"
      ],
      "text/plain": [
       "   Unnamed: 0  year  month   intent  police sex   age                    race  \\\n",
       "0           1  2012      1  Suicide       0   M  34.0  Asian/Pacific Islander   \n",
       "1           2  2012      1  Suicide       0   F  21.0                   White   \n",
       "2           3  2012      1  Suicide       0   M  60.0                   White   \n",
       "3           4  2012      2  Suicide       0   M  64.0                   White   \n",
       "4           5  2012      2  Suicide       0   M  31.0                   White   \n",
       "\n",
       "   hispanic            place  education year_month  \n",
       "0       100             Home        4.0 2012-01-01  \n",
       "1       100           Street        3.0 2012-01-01  \n",
       "2       100  Other specified        4.0 2012-01-01  \n",
       "3       100             Home        4.0 2012-02-01  \n",
       "4       100  Other specified        2.0 2012-02-01  "
      ]
     },
     "metadata": {},
     "output_type": "display_data"
    }
   ],
   "source": [
    "def prepare_date(row):\n",
    "    \"\"\"Reformats a date column from a year and month field to a datetime object\n",
    "\n",
    "    Args:\n",
    "        Row of dataframe\n",
    "\n",
    "    Returns:\n",
    "        Row with reformated date column\n",
    "    \"\"\"\n",
    "    year = int(row[['year']])\n",
    "    \n",
    "    month = int(row[['month']])\n",
    "    return datetime(year = year, month = month, day = 1)\n",
    "\n",
    "\n",
    "data['year_month'] = data.apply(prepare_date, axis=1)\n",
    "\n",
    "### Inspect the first 5 rows of the dataset\n",
    "display(data.head())"
   ]
  },
  {
   "cell_type": "markdown",
   "metadata": {},
   "source": [
    "### Count the deaths by month of the year"
   ]
  },
  {
   "cell_type": "code",
   "execution_count": 8,
   "metadata": {
    "collapsed": false
   },
   "outputs": [
    {
     "name": "stdout",
     "output_type": "stream",
     "text": [
      "2013-07-01    3079\n",
      "2012-07-01    3026\n",
      "2012-05-01    2999\n",
      "2014-08-01    2970\n",
      "2012-08-01    2954\n",
      "2014-06-01    2931\n",
      "2013-06-01    2920\n",
      "2014-09-01    2914\n",
      "2014-07-01    2884\n",
      "2014-10-01    2865\n",
      "2013-01-01    2864\n",
      "2014-05-01    2864\n",
      "2013-03-01    2862\n",
      "2014-04-01    2862\n",
      "2013-08-01    2859\n",
      "2014-12-01    2857\n",
      "2012-09-01    2852\n",
      "2012-06-01    2826\n",
      "2013-10-01    2808\n",
      "2013-05-01    2806\n",
      "2013-04-01    2798\n",
      "2012-04-01    2795\n",
      "2012-12-01    2791\n",
      "2013-12-01    2765\n",
      "2013-11-01    2758\n",
      "2012-01-01    2758\n",
      "2014-11-01    2756\n",
      "2012-03-01    2743\n",
      "2013-09-01    2742\n",
      "2012-10-01    2733\n",
      "2012-11-01    2729\n",
      "2014-03-01    2684\n",
      "2014-01-01    2651\n",
      "2013-02-01    2375\n",
      "2014-02-01    2361\n",
      "2012-02-01    2357\n",
      "Name: year_month, dtype: int64\n"
     ]
    }
   ],
   "source": [
    "date_counts = data['year_month'].value_counts()\n",
    "\n",
    "### Print deaths per month of year \n",
    "print(date_counts)"
   ]
  },
  {
   "cell_type": "markdown",
   "metadata": {},
   "source": [
    "## Count the unique items in the sex and race column"
   ]
  },
  {
   "cell_type": "code",
   "execution_count": 9,
   "metadata": {
    "collapsed": false
   },
   "outputs": [
    {
     "name": "stdout",
     "output_type": "stream",
     "text": [
      "Deaths per sex:\n",
      "M    86349\n",
      "F    14449\n",
      "Name: sex, dtype: int64\n",
      "Deaths per race:\n",
      "White                             66237\n",
      "Black                             23296\n",
      "Hispanic                           9022\n",
      "Asian/Pacific Islander             1326\n",
      "Native American/Native Alaskan      917\n",
      "Name: race, dtype: int64\n"
     ]
    }
   ],
   "source": [
    "### Sum up the deaths per gender\n",
    "sex_counts = data['sex'].value_counts()\n",
    "### Sum up the deaths per race\n",
    "race_counts = data['race'].value_counts()\n",
    "\n",
    "print('Deaths per sex:')\n",
    "print(sex_counts)\n",
    "print('Deaths per race:')\n",
    "print(race_counts)"
   ]
  },
  {
   "cell_type": "markdown",
   "metadata": {},
   "source": [
    "### Results"
   ]
  },
  {
   "cell_type": "markdown",
   "metadata": {},
   "source": [
    "We analysis of the data show that men more likely are killed through guns and also that minorities are more likely are killed through guns."
   ]
  },
  {
   "cell_type": "markdown",
   "metadata": {},
   "source": [
    "## Analysis guns dataset combined with census dataset"
   ]
  },
  {
   "cell_type": "markdown",
   "metadata": {},
   "source": [
    "### Map the race categories from the census data with the race categories in the guns data"
   ]
  },
  {
   "cell_type": "code",
   "execution_count": 10,
   "metadata": {
    "collapsed": false
   },
   "outputs": [],
   "source": [
    "mapping = {}\n",
    "mapping['Asian/Pacific Islander'] = data_census.loc[0]['Race Alone - Asian'] + data_census.loc[0]['Race Alone - Native Hawaiian and Other Pacific Islander']\n",
    "mapping['Black'] = data_census.loc[0]['Race Alone - Black or African American']\n",
    "mapping['Native American/Native Alaskan'] = data_census.loc[0]['Race Alone - American Indian and Alaska Native']\n",
    "mapping['Hispanic'] = data_census.loc[0]['Race Alone - Hispanic']\n",
    "mapping['White'] = data_census.loc[0]['Race Alone - White']"
   ]
  },
  {
   "cell_type": "markdown",
   "metadata": {},
   "source": [
    "### Compute the deaths per 100,000 per race category"
   ]
  },
  {
   "cell_type": "code",
   "execution_count": 11,
   "metadata": {
    "collapsed": false
   },
   "outputs": [
    {
     "data": {
      "text/plain": [
       "{'Asian/Pacific Islander': 8.3743096641617623,\n",
       " 'Black': 57.877347773519602,\n",
       " 'Hispanic': 20.220491210910907,\n",
       " 'Native American/Native Alaskan': 24.521955573811088,\n",
       " 'White': 33.56849303419181}"
      ]
     },
     "metadata": {},
     "output_type": "display_data"
    }
   ],
   "source": [
    "race_per_hundredk = {}\n",
    "\n",
    "for key, item in race_counts.items():\n",
    "    \n",
    "    if key in mapping:\n",
    "        race_per_hundredk[key] = race_counts[key] / mapping[key] * 100000\n",
    "    \n",
    "display(race_per_hundredk)  "
   ]
  },
  {
   "cell_type": "markdown",
   "metadata": {
    "collapsed": true
   },
   "source": [
    "### Compute the homicides per 100,000 per race category"
   ]
  },
  {
   "cell_type": "code",
   "execution_count": 12,
   "metadata": {
    "collapsed": false
   },
   "outputs": [
    {
     "name": "stdout",
     "output_type": "stream",
     "text": [
      "{'White': 4.6351350044645478, 'Asian/Pacific Islander': 3.5240307636517825, 'Black': 48.468800554326656, 'Native American/Native Alaskan': 8.6909875261598728, 'Hispanic': 12.624919861567406}\n"
     ]
    }
   ],
   "source": [
    "intents = data['intent']\n",
    "races = data['race']\n",
    "\n",
    "homicide_race_per_hundredk = {}\n",
    "\n",
    "for i, race in enumerate(races):\n",
    "    if intents[i] == 'Homicide':\n",
    "        if race not in homicide_race_per_hundredk:\n",
    "            homicide_race_per_hundredk[race] = 0\n",
    "        else:\n",
    "            homicide_race_per_hundredk[race] += 1\n",
    "\n",
    "for key, item in homicide_race_per_hundredk.items():\n",
    "    \n",
    "    if key in mapping:\n",
    "        homicide_race_per_hundredk[key] = item / mapping[key] * 100000       \n",
    "\n",
    "print(homicide_race_per_hundredk)"
   ]
  },
  {
   "cell_type": "markdown",
   "metadata": {
    "collapsed": true
   },
   "source": [
    "### Results"
   ]
  },
  {
   "cell_type": "markdown",
   "metadata": {},
   "source": [
    "The second analysis shows that Black people are extremly more often killed in homicides wiht guns included"
   ]
  }
 ],
 "metadata": {
  "kernelspec": {
   "display_name": "Python 3",
   "language": "python",
   "name": "python3"
  },
  "language_info": {
   "codemirror_mode": {
    "name": "ipython",
    "version": 3
   },
   "file_extension": ".py",
   "mimetype": "text/x-python",
   "name": "python",
   "nbconvert_exporter": "python",
   "pygments_lexer": "ipython3",
   "version": "3.6.0"
  }
 },
 "nbformat": 4,
 "nbformat_minor": 0
}
