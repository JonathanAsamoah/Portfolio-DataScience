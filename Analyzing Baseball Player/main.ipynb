{
 "cells": [
  {
   "cell_type": "markdown",
   "metadata": {},
   "source": [
    "# Project Description:"
   ]
  },
  {
   "cell_type": "markdown",
   "metadata": {},
   "source": [
    "In this project the salary increasement of MBA players between 1985 and 2015 is analyzed. \n",
    "\n",
    "For this analysis a [data set](http://www.seanlahman.com/baseball-archive/statistics/) provided by SeanLahman.com is used. It contains statistics related to the MBA from year 1871 till 2015.\n",
    "We use the salary related part of the statistics in the dataset that start in the year 1985, as basis for your evaluation."
   ]
  },
  {
   "cell_type": "markdown",
   "metadata": {},
   "source": [
    "## Point of Analyses"
   ]
  },
  {
   "cell_type": "markdown",
   "metadata": {},
   "source": [
    "The analyses in this project concentrates on these questions: \n",
    "* How did the salaraies for MBA player changed from the year 1985 and 2015 in generall \n",
    "* Which players main positon gained the most salaries\n",
    "* How much salary does the MVP player become in relation to the avg. salary player"
   ]
  },
  {
   "cell_type": "markdown",
   "metadata": {},
   "source": [
    "# Project Preparation"
   ]
  },
  {
   "cell_type": "markdown",
   "metadata": {},
   "source": [
    "## Import Libaries"
   ]
  },
  {
   "cell_type": "code",
   "execution_count": 1,
   "metadata": {
    "collapsed": false
   },
   "outputs": [],
   "source": [
    "import os\n",
    "import shutil\n",
    "import io\n",
    "import urllib.request\n",
    "import zipfile\n",
    "\n",
    "from IPython.display import display\n",
    "\n",
    "import pandas as pd\n",
    "import numpy as np\n",
    "\n",
    "import matplotlib.pyplot as plt\n",
    "import seaborn\n",
    "%matplotlib inline"
   ]
  },
  {
   "cell_type": "markdown",
   "metadata": {},
   "source": [
    "## Set Global Variables"
   ]
  },
  {
   "cell_type": "code",
   "execution_count": 2,
   "metadata": {
    "collapsed": true
   },
   "outputs": [],
   "source": [
    "URL = 'http://seanlahman.com/files/database/baseballdatabank-master_2016-03-02.zip'\n",
    "PATH_DATASET = 'data/'"
   ]
  },
  {
   "cell_type": "markdown",
   "metadata": {},
   "source": [
    "## Download the data"
   ]
  },
  {
   "cell_type": "code",
   "execution_count": 3,
   "metadata": {
    "collapsed": false
   },
   "outputs": [
    {
     "ename": "FileNotFoundError",
     "evalue": "[WinError 3] Das System kann den angegebenen Pfad nicht finden: 'data/AllstarFull.csv' -> 'data/data/AllstarFull.csv'",
     "output_type": "error",
     "traceback": [
      "\u001b[0;31m---------------------------------------------------------------------------\u001b[0m",
      "\u001b[0;31mFileNotFoundError\u001b[0m                         Traceback (most recent call last)",
      "\u001b[0;32m<ipython-input-3-032b7cf47e4e>\u001b[0m in \u001b[0;36m<module>\u001b[0;34m()\u001b[0m\n\u001b[1;32m     55\u001b[0m \u001b[0mTo\u001b[0m \u001b[0mprevent\u001b[0m \u001b[0mthe\u001b[0m \u001b[0mcode\u001b[0m \u001b[1;32mfrom\u001b[0m \u001b[0mdownloading\u001b[0m \u001b[0mthe\u001b[0m \u001b[0mdata\u001b[0m \u001b[0mevery\u001b[0m \u001b[0mtime\u001b[0m \u001b[0myou\u001b[0m \u001b[0mrun\u001b[0m \u001b[0mthe\u001b[0m \u001b[0mcode\u001b[0m\u001b[1;33m.\u001b[0m\u001b[1;33m\u001b[0m\u001b[0m\n\u001b[1;32m     56\u001b[0m \"\"\"\n\u001b[0;32m---> 57\u001b[0;31m \u001b[0mdownload_unpack_zip_folder\u001b[0m\u001b[1;33m(\u001b[0m\u001b[0mURL\u001b[0m\u001b[1;33m,\u001b[0m \u001b[0mPATH_DATASET\u001b[0m\u001b[1;33m)\u001b[0m\u001b[1;33m\u001b[0m\u001b[0m\n\u001b[0m",
      "\u001b[0;32m<ipython-input-3-032b7cf47e4e>\u001b[0m in \u001b[0;36mdownload_unpack_zip_folder\u001b[0;34m(url, path_data)\u001b[0m\n\u001b[1;32m     46\u001b[0m     \u001b[1;32mfor\u001b[0m \u001b[0mfile\u001b[0m \u001b[1;32min\u001b[0m \u001b[0mfile_names\u001b[0m\u001b[1;33m:\u001b[0m\u001b[1;33m\u001b[0m\u001b[0m\n\u001b[1;32m     47\u001b[0m         \u001b[0mnew_file\u001b[0m \u001b[1;33m=\u001b[0m \u001b[0mpath_dir\u001b[0m \u001b[1;33m+\u001b[0m \u001b[0mfile\u001b[0m\u001b[1;33m.\u001b[0m\u001b[0msplit\u001b[0m\u001b[1;33m(\u001b[0m\u001b[1;34m'\\\\'\u001b[0m\u001b[1;33m)\u001b[0m\u001b[1;33m[\u001b[0m\u001b[1;33m-\u001b[0m\u001b[1;36m1\u001b[0m\u001b[1;33m]\u001b[0m\u001b[1;33m\u001b[0m\u001b[0m\n\u001b[0;32m---> 48\u001b[0;31m         \u001b[0mos\u001b[0m\u001b[1;33m.\u001b[0m\u001b[0mrename\u001b[0m\u001b[1;33m(\u001b[0m\u001b[0mfile\u001b[0m\u001b[1;33m,\u001b[0m \u001b[0mnew_file\u001b[0m\u001b[1;33m)\u001b[0m\u001b[1;33m\u001b[0m\u001b[0m\n\u001b[0m\u001b[1;32m     49\u001b[0m \u001b[1;33m\u001b[0m\u001b[0m\n\u001b[1;32m     50\u001b[0m     \u001b[1;31m### Delete original zip content folder\u001b[0m\u001b[1;33m\u001b[0m\u001b[1;33m\u001b[0m\u001b[0m\n",
      "\u001b[0;31mFileNotFoundError\u001b[0m: [WinError 3] Das System kann den angegebenen Pfad nicht finden: 'data/AllstarFull.csv' -> 'data/data/AllstarFull.csv'"
     ]
    }
   ],
   "source": [
    "def download_unpack_zip_folder(url, path_data):\n",
    "    \"\"\"Download a csv file and stores it in the data folder of the project repository.\n",
    "\n",
    "    Args:\n",
    "        URL of the csv file\n",
    "\n",
    "    Returns:\n",
    "        None\n",
    "    \"\"\"\n",
    "    ### Set file name for cached zip file\n",
    "    cached_zip = 'data/temp.zip'\n",
    "    ### Set path to data folder\n",
    "    path_dir = path_data\n",
    "    \n",
    "    ### Create the data folder if not exits\n",
    "    if not os.path.exists(path_dir):\n",
    "        os.makedirs(path_dir)\n",
    "    \n",
    "    ### fetch the zip file\n",
    "    file = urllib.request.urlopen(url)\n",
    "    \n",
    "    ### Cache the zip file on the disk\n",
    "    output = open(cached_zip, 'wb')\n",
    "    output.write(file.read())\n",
    "    output.close()\n",
    "    \n",
    "    ### Unpack the zip file\n",
    "    zfile = zipfile.ZipFile(cached_zip)\n",
    "    zfile.extractall(path_dir)\n",
    "    zfile.close()\n",
    "    \n",
    "    ### Delete the zip file\n",
    "    os.remove(cached_zip)\n",
    "    \n",
    "    ### Initalize list of files in the zip content folder\n",
    "    file_names = []\n",
    "    ### Get all file names inside the unpacked zipfile\n",
    "    for subdir, dirs, files in os.walk(path_dir):\n",
    "        for file in files:\n",
    "            file_names.append(os.path.join(subdir, file))\n",
    "    \n",
    "    ### Get all files with the extension .csv\n",
    "    file_names = [file for file in file_names if '.csv' in file]\n",
    "    \n",
    "    ### Move csv files from zip content folder to data folder\n",
    "    for file in file_names:\n",
    "        new_file = path_dir + file.split('\\\\')[-1]\n",
    "        os.rename(file, new_file)\n",
    "    \n",
    "    ### Delete original zip content folder\n",
    "    shutil.rmtree(file_names[0].split('\\\\')[0])\n",
    "\n",
    "\"\"\"\n",
    "Downloads the data to the data folder of a local repository after you run it once you can uncomment this lines.\n",
    "To prevent the code from downloading the data every time you run the code.\n",
    "\"\"\"\n",
    "download_unpack_zip_folder(URL, PATH_DATASET)"
   ]
  },
  {
   "cell_type": "markdown",
   "metadata": {},
   "source": [
    "## Load all csv files of a folder into a dict of dfs"
   ]
  },
  {
   "cell_type": "code",
   "execution_count": null,
   "metadata": {
    "collapsed": false
   },
   "outputs": [],
   "source": [
    "def get_file_names(path):\n",
    "    \"\"\"Gets an folder path and returns names of all csv files contained in the folder\n",
    "\n",
    "    Args:\n",
    "        Path to folder\n",
    "\n",
    "    Returns:\n",
    "        List of file names\n",
    "    \"\"\"\n",
    "    file_names = os.listdir(path)\n",
    "    \n",
    "    file_names = [file for file in file_names if '.csv' in file]\n",
    "    \n",
    "    return file_names\n",
    "    \n",
    "def load_csv(path):\n",
    "    \"\"\"Get the path to a csv file and returns a dataframe\n",
    "\n",
    "    Args:\n",
    "        Path of the csv file\n",
    "\n",
    "    Returns:\n",
    "        Dataframe of given csv file\n",
    "    \"\"\"\n",
    "    df = pd.read_csv(path)\n",
    "    \n",
    "    return df\n",
    "\n",
    "def load_csv_from_folder(path):\n",
    "    \"\"\"Gets an folder path and returns a dict containing dataframes for all csv files in the folder\n",
    "\n",
    "    Args:\n",
    "        URL of folder containing csv files\n",
    "\n",
    "    Returns:\n",
    "        Dict of dataframes\n",
    "    \"\"\"\n",
    "    file_names = get_file_names(path)\n",
    "    \n",
    "    data =  {}\n",
    "    \n",
    "    for file in file_names:\n",
    "        \n",
    "        data[file] = load_csv(path + file)\n",
    "    \n",
    "    return data"
   ]
  },
  {
   "cell_type": "markdown",
   "metadata": {
    "collapsed": true
   },
   "source": [
    "## Load the Dataset"
   ]
  },
  {
   "cell_type": "code",
   "execution_count": null,
   "metadata": {
    "collapsed": true
   },
   "outputs": [],
   "source": [
    "def print_heads_of_dict_of_dfs(data):\n",
    "    \"\"\"Gets a dict of dataframes and prints the first 5 entries of every dataframe\n",
    "\n",
    "    Args:\n",
    "        Dict of dataframes\n",
    "\n",
    "    Returns:\n",
    "        None\n",
    "    \"\"\"\n",
    "    for key, df in data.items():\n",
    "        print(key)\n",
    "        display(df.head())\n",
    "        print('----------------------------------------')"
   ]
  },
  {
   "cell_type": "code",
   "execution_count": null,
   "metadata": {
    "collapsed": false
   },
   "outputs": [],
   "source": [
    "# Load the data as dfs in the dict data\n",
    "data = load_csv_from_folder(PATH_DATASET)\n",
    "# Inspect the first 5 rows of the dict of dataframes\n",
    "print_heads_of_dict_of_dfs(data)"
   ]
  },
  {
   "cell_type": "markdown",
   "metadata": {},
   "source": [
    "# Evaluation"
   ]
  },
  {
   "cell_type": "markdown",
   "metadata": {},
   "source": [
    "## Evaluate avg. Salaries per year"
   ]
  },
  {
   "cell_type": "markdown",
   "metadata": {},
   "source": [
    "### Analyse the Salaries data set"
   ]
  },
  {
   "cell_type": "code",
   "execution_count": null,
   "metadata": {
    "collapsed": false
   },
   "outputs": [],
   "source": [
    "### Analyse the count of entries in the data set\n",
    "print('len: ' + str(data['Salaries.csv'].shape[0]))"
   ]
  },
  {
   "cell_type": "code",
   "execution_count": null,
   "metadata": {
    "collapsed": false
   },
   "outputs": [],
   "source": [
    "### Analyse the point estimators of the data set\n",
    "print(data['Salaries.csv']['salary'].describe())"
   ]
  },
  {
   "cell_type": "markdown",
   "metadata": {},
   "source": [
    "The summary shows that the dataset contains 25575 entries, with an:\n",
    "* average salary of 2,008,653\n",
    "* min salary of 0\n",
    "* max salary of 33,000,000\n",
    "* medain salary of 550,000"
   ]
  },
  {
   "cell_type": "code",
   "execution_count": null,
   "metadata": {
    "collapsed": false
   },
   "outputs": [],
   "source": [
    "### Analyse the values for year in the data set\n",
    "print(data['Salaries.csv']['yearID'].unique())"
   ]
  },
  {
   "cell_type": "markdown",
   "metadata": {},
   "source": [
    "The Salaries.csv dataset contains 25575 entries. For the years 1985 to 2015."
   ]
  },
  {
   "cell_type": "markdown",
   "metadata": {},
   "source": [
    "### Remove entries in the Salaries data set that contain a salary of zero"
   ]
  },
  {
   "cell_type": "code",
   "execution_count": null,
   "metadata": {
    "collapsed": false
   },
   "outputs": [],
   "source": [
    "# Filter all salaries that are 0 or less\n",
    "df_salaries_cleaned = data['Salaries.csv'][data['Salaries.csv']['salary'] >0.0]\n",
    "### Analyse the count of remaining entries in the data set\n",
    "print('len: ' + str(df_salaries_cleaned.shape[0]))"
   ]
  },
  {
   "cell_type": "markdown",
   "metadata": {},
   "source": [
    "Filter out all the entries in the Salaries.csv file with a salary of 0 or less, because this indicates either a false value or that the player never activaly played.\n",
    "This process reduced the number of entries fro 25575 to 25573"
   ]
  },
  {
   "cell_type": "markdown",
   "metadata": {},
   "source": [
    "### Summarize salaries per year"
   ]
  },
  {
   "cell_type": "code",
   "execution_count": null,
   "metadata": {
    "collapsed": false
   },
   "outputs": [],
   "source": [
    "### Group salaries per year\n",
    "salary_per_year = df_salaries_cleaned.groupby(['yearID'],as_index=False).mean()\n",
    "### Reset index to year\n",
    "salary_per_year.set_index(['yearID'], inplace=True)\n",
    "### Inspect the dataset\n",
    "display(salary_per_year.transpose())"
   ]
  },
  {
   "cell_type": "markdown",
   "metadata": {},
   "source": [
    "### Chart salaries per year"
   ]
  },
  {
   "cell_type": "code",
   "execution_count": null,
   "metadata": {
    "collapsed": false
   },
   "outputs": [],
   "source": [
    "fig, ax = plt.subplots()\n",
    "fig.set_figwidth(12)\n",
    "\n",
    "ax.plot(salary_per_year.index, salary_per_year['salary'], color='black')\n",
    "\n",
    "ax.set_title('Salaries per Year')\n",
    "ax.set_xlabel('Year')\n",
    "ax.set_ylabel('Salary')\n",
    "ax.set_facecolor('white')\n",
    "ax.set_xticks(salary_per_year.index)\n",
    "ax.set_xticklabels(salary_per_year.index, rotation=45)\n",
    "\n",
    "plt.show()"
   ]
  },
  {
   "cell_type": "markdown",
   "metadata": {},
   "source": [
    "As you can see in the chart the salary drasticly improved over the last 30 years.\n",
    "From about 50,000 avg. salary in the year between 1985 to 1990 to over 4,000,000 since 2014."
   ]
  },
  {
   "cell_type": "markdown",
   "metadata": {},
   "source": [
    "### Compute salaries increase per year"
   ]
  },
  {
   "cell_type": "code",
   "execution_count": null,
   "metadata": {
    "collapsed": false
   },
   "outputs": [],
   "source": [
    "### Generate a new column growth in salary between years\n",
    "salary_per_year[\"salary_increase\"] = np.nan\n",
    "\n",
    "### Compute the salaray growth\n",
    "for key, _ in salary_per_year.iterrows():\n",
    "    \n",
    "    if key - 1 in salary_per_year.index:\n",
    "        increase = (salary_per_year.ix[key, 'salary'] / (salary_per_year.ix[key - 1, 'salary'] / 100)) - 100\n",
    "        salary_per_year.ix[key, 'salary_increase'] = increase\n",
    "    else:\n",
    "        salary_per_year.ix[key, 'salary_increase'] = 0\n",
    "        \n",
    "### Inspect the dataset\n",
    "display(salary_per_year.transpose())"
   ]
  },
  {
   "cell_type": "markdown",
   "metadata": {},
   "source": [
    "### Chart salaries increase per year"
   ]
  },
  {
   "cell_type": "code",
   "execution_count": null,
   "metadata": {
    "collapsed": false
   },
   "outputs": [],
   "source": [
    "bar_heights = salary_per_year[\"salary_increase\"].values\n",
    "bar_positions = np.arange(len(salary_per_year.index))\n",
    "\n",
    "fig, ax = plt.subplots()\n",
    "fig.set_figwidth(18)\n",
    "fig.set_figheight(6)\n",
    "\n",
    "ax.bar(bar_positions, bar_heights, .5, color='silver')\n",
    "ax.set_title('Salary increase per year')\n",
    "ax.set_xlabel('Year')\n",
    "ax.set_ylabel('Salary increase to the year before in %')\n",
    "\n",
    "ax.set_xticks(np.arange(len(salary_per_year.index)))\n",
    "ax.set_xticklabels(salary_per_year.index)\n",
    "\n",
    "ax.set_ylim([-15,75])\n",
    "ax.axhline(bar_heights.mean(), color='black', linestyle='dashed', linewidth=1)\n",
    "line_text = 'Avg. increase (' + str(round(bar_heights.mean(),2)) + '%)'\n",
    "ax.text(0, bar_heights.mean() + 0.5 , line_text, color='black')\n",
    "ax.set_facecolor('white')\n",
    "plt.show()"
   ]
  },
  {
   "cell_type": "markdown",
   "metadata": {},
   "source": [
    "As the chart shows the average salaray increase is about 8%. And the highest increase in salary was from the year 1990 to the year 1991."
   ]
  },
  {
   "cell_type": "markdown",
   "metadata": {},
   "source": [
    "## Evaluate avg. Salaries per position"
   ]
  },
  {
   "cell_type": "markdown",
   "metadata": {},
   "source": [
    "As the dataset Salaries.csv contains no player postion values it becomes merged with the Fielding.csv dataset that contains values for the player position.  \n",
    "In doing so in the Fielding.csv dataset for every player the position he played most in one year is evaluted and the salary is used as his main position.\n",
    "Later the Fielding.csv dataset is merged with the Salaries.csv dataset based on playerID, yearID, teamID.\n",
    "And group by the position, to evalute the average salary for every possible main position."
   ]
  },
  {
   "cell_type": "markdown",
   "metadata": {},
   "source": [
    "### Prepare the Salaries df for merging with the Fielding df"
   ]
  },
  {
   "cell_type": "code",
   "execution_count": null,
   "metadata": {
    "collapsed": false
   },
   "outputs": [],
   "source": [
    "### Copy df in a new var    \n",
    "df_salaries = data['Salaries.csv'].copy()\n",
    "### Convert column yearID to string\n",
    "df_salaries['yearID'] =df_salaries['yearID'].astype('int')\n",
    "### Sort the df\n",
    "df_salaries.sort_index(inplace=True)\n",
    "### Remove any unnessary columns\n",
    "df_salaries.drop(['lgID'], inplace=True, axis=1)\n",
    "\n",
    "### Inspect the dataset\n",
    "display(df_salaries.head())"
   ]
  },
  {
   "cell_type": "markdown",
   "metadata": {},
   "source": [
    "### Prepare the Fielding df for merging with the Salaries df"
   ]
  },
  {
   "cell_type": "code",
   "execution_count": null,
   "metadata": {
    "collapsed": false
   },
   "outputs": [],
   "source": [
    "### Copy df in a new var\n",
    "df_fielding = data['Fielding.csv'].copy()\n",
    "### Convert column yearID to string\n",
    "df_fielding['yearID'] =df_fielding['yearID'].astype('int')\n",
    "### Remove any entries < 1985\n",
    "df_fielding = df_fielding[df_fielding['yearID'] >= 1985]\n",
    "### Generate a pseudo column consiting of player and year values\n",
    "df_fielding['player_year'] = df_fielding['playerID'] + ' ' + str(df_fielding['yearID'])\n",
    "### Remove any duplicates in the pseudo column player_year and keep just the column with the most game appearances\n",
    "df_fielding = df_fielding.sort_values(by=['G']).drop_duplicates(subset='player_year', keep='last')\n",
    "### Sort the df\n",
    "df_fielding.sort_index(inplace=True)\n",
    "### Remove any unnessary columns\n",
    "df_fielding = df_fielding[['playerID', 'yearID', 'teamID', 'POS']]\n",
    "\n",
    "### Inspect the dataset\n",
    "display(df_fielding.head())"
   ]
  },
  {
   "cell_type": "markdown",
   "metadata": {},
   "source": [
    "### Merge the two dfs"
   ]
  },
  {
   "cell_type": "code",
   "execution_count": null,
   "metadata": {
    "collapsed": false
   },
   "outputs": [],
   "source": [
    "### Merge the dfs based on the columns playerID, yearID, teamID\n",
    "df_merged = df_salaries.merge(df_fielding, how='right', on=['playerID', 'yearID', 'teamID'])\n",
    "\n",
    "### Inspect the dataset\n",
    "display(df_merged.head())"
   ]
  },
  {
   "cell_type": "markdown",
   "metadata": {},
   "source": [
    "### Summarize salary per position"
   ]
  },
  {
   "cell_type": "code",
   "execution_count": null,
   "metadata": {
    "collapsed": false
   },
   "outputs": [],
   "source": [
    "### Summarize the salary py position\n",
    "df_salary_per_position = df_merged.groupby(['POS'],as_index=False).mean()\n",
    "### Remove any unnessary columns\n",
    "df_salary_per_position.drop(['yearID'], inplace=True, axis=1)\n",
    "### Reset index to positon\n",
    "df_salary_per_position.set_index(['POS'], inplace=True)\n",
    "\n",
    "### Inspect the dataset\n",
    "display(df_salary_per_position.transpose())"
   ]
  },
  {
   "cell_type": "markdown",
   "metadata": {},
   "source": [
    "### Chart avg. salaries per main position"
   ]
  },
  {
   "cell_type": "code",
   "execution_count": null,
   "metadata": {
    "collapsed": false
   },
   "outputs": [],
   "source": [
    "bar_heights = df_salary_per_position['salary'].values\n",
    "bar_positions = np.arange(df_salary_per_position.shape[0]) + 0.75\n",
    "\n",
    "fig, ax = plt.subplots()\n",
    "fig.set_figwidth(12)\n",
    "fig.set_figheight(8)\n",
    "\n",
    "ax.bar(bar_positions, bar_heights, .5, color='silver')\n",
    "ax.set_title('Avg. Salary per Position')\n",
    "ax.set_xlabel('Position')\n",
    "ax.set_ylabel('Salary')\n",
    "ax.set_ylim([0,5000000])\n",
    "ax.set_facecolor('white')\n",
    "ax.set_xticks(bar_positions)\n",
    "ax.set_xticklabels(df_salary_per_position.index, rotation=90)\n",
    "\n",
    "plt.show()"
   ]
  },
  {
   "cell_type": "markdown",
   "metadata": {},
   "source": [
    "The chart shows that over the past 30 years the players that mostly play as LF gets in average the most salary and the players that mostly play as DH gets in average the lowest salary."
   ]
  },
  {
   "cell_type": "markdown",
   "metadata": {},
   "source": [
    "## Evaluate the difference between a avg. Salaries per year with the salary of the MVP in this year"
   ]
  },
  {
   "cell_type": "markdown",
   "metadata": {},
   "source": [
    "To evaluate the diffence the dataset AwardsPlayers.csv is filtered for all players that became the MVP award and years later than 1984. Than the avg. salaries per year are computed by group the df_salaries_cleaned dataframe per year. Later the df_salaries_cleaned and the df_mvp_salary dataframe are merged based on the year and the difference between this two salary values is computed. The difference is computed in percent by using the avg. salary as basis. So the differnce is represented as difference to the avg. salary."
   ]
  },
  {
   "cell_type": "markdown",
   "metadata": {},
   "source": [
    "### Filter the AwardsPlayers.csv dataframe and prepare for the merge"
   ]
  },
  {
   "cell_type": "code",
   "execution_count": null,
   "metadata": {
    "collapsed": false
   },
   "outputs": [],
   "source": [
    "### Filter the AwardsPlayers.csv for player award MVP(TSN Major League Player of the Year) and years later than 1984\n",
    "df_mvp_1985_till_2015 = data['AwardsPlayers.csv'][(data['AwardsPlayers.csv']['awardID'] == \\\n",
    "                                                   'TSN Major League Player of the Year') \\\n",
    "                                                  & (data['AwardsPlayers.csv']['yearID'] >= \\\n",
    "                                                     1985)][['playerID', 'yearID']]\n",
    "\n",
    "### Select the columns playerID, yearID\n",
    "df_mvp_1985_till_2015 = df_mvp_1985_till_2015[['playerID', 'yearID']]\n",
    "\n",
    "### Merge df_mvp_1985_till_2015 with salaries basesd on playerID, yearID\n",
    "df_mvp_salary = df_mvp_1985_till_2015.merge(df_salaries, how='left', on=['playerID', 'yearID'])\n",
    "\n",
    "### Drop the teamID, playerIDcolumn because not needed\n",
    "df_mvp_salary.drop(['teamID', 'playerID'], inplace=True, axis=1)\n",
    "\n",
    "### Set year column as index\n",
    "df_mvp_salary.set_index('yearID', inplace = True)\n",
    "\n",
    "### Rename salary column to avoid the same column name\n",
    "df_mvp_salary.rename(columns= {'salary': 'mvp_salary'}, inplace=True)\n",
    "\n",
    "### Inspect df_mvp_salary\n",
    "display(df_mvp_salary.transpose())"
   ]
  },
  {
   "cell_type": "markdown",
   "metadata": {},
   "source": [
    "### Summarize salaries per year"
   ]
  },
  {
   "cell_type": "code",
   "execution_count": null,
   "metadata": {
    "collapsed": false
   },
   "outputs": [],
   "source": [
    "### Group salaries per year\n",
    "salary_per_year = df_salaries_cleaned.groupby(['yearID'],as_index=False).mean()\n",
    "\n",
    "### Reset index to year\n",
    "salary_per_year.set_index(['yearID'], inplace=True)\n",
    "\n",
    "### Rename salary column to avoid the same column name\n",
    "salary_per_year.rename(columns= {'salary': 'avg_salary'}, inplace=True)\n",
    "\n",
    "### Inspect the dataset\n",
    "display(salary_per_year.transpose())"
   ]
  },
  {
   "cell_type": "markdown",
   "metadata": {},
   "source": [
    "### Merge df_mvp_salary with salary_per_year"
   ]
  },
  {
   "cell_type": "code",
   "execution_count": null,
   "metadata": {
    "collapsed": false
   },
   "outputs": [],
   "source": [
    "### Merge df_mvp_salary with salary_per_year basesd on playerID\n",
    "df_mvp_avg_salary = df_mvp_salary.merge(salary_per_year, how='left', left_index=True, right_index=True)\n",
    "\n",
    "### Inspect the dataset\n",
    "display(df_mvp_avg_salary.transpose())"
   ]
  },
  {
   "cell_type": "markdown",
   "metadata": {},
   "source": [
    "### Compute the difference in % between the MVP and the avg. player"
   ]
  },
  {
   "cell_type": "code",
   "execution_count": null,
   "metadata": {
    "collapsed": false
   },
   "outputs": [],
   "source": [
    "### Compute avg. difference between mvp salary in percent\n",
    "df_mvp_avg_salary['difference'] = (df_mvp_avg_salary['mvp_salary'] / df_mvp_avg_salary['avg_salary'] * 100) - 100\n",
    "\n",
    "### Inspect the dataset\n",
    "display(df_mvp_avg_salary.transpose())\n",
    "print(df_mvp_avg_salary['difference'].mean())\n"
   ]
  },
  {
   "cell_type": "markdown",
   "metadata": {},
   "source": [
    "### Chart difference in salary between the avg. salary of the players and the MVP"
   ]
  },
  {
   "cell_type": "code",
   "execution_count": null,
   "metadata": {
    "collapsed": false
   },
   "outputs": [],
   "source": [
    "bar_heights = df_mvp_avg_salary['difference'].values\n",
    "bar_positions = np.arange(len(df_mvp_avg_salary.index))\n",
    "\n",
    "fig, ax = plt.subplots()\n",
    "fig.set_figwidth(18)\n",
    "fig.set_figheight(6)\n",
    "\n",
    "ax.bar(bar_positions, bar_heights, .5, color='silver')\n",
    "ax.set_title('Salary difference MVPs and Avg. salary')\n",
    "ax.set_xlabel('Year')\n",
    "ax.set_ylabel('Salary difference in %')\n",
    "\n",
    "ax.set_xticks(np.arange(len(df_mvp_avg_salary.index)))\n",
    "ax.set_xticklabels(df_mvp_avg_salary.index, rotation=45)\n",
    "\n",
    "ax.axhline(bar_heights.mean(), color='red', linestyle='dashed', linewidth=1)\n",
    "line_text = 'Avg. increase (' + str(round(bar_heights.mean(),2)) + '%)'\n",
    "ax.text(0, bar_heights.mean() + 10 , line_text, color='red')\n",
    "\n",
    "ax.set_facecolor('white')\n",
    "plt.show()"
   ]
  },
  {
   "cell_type": "markdown",
   "metadata": {},
   "source": [
    "The chart shows that most of the time the MVP get more salary, up to 800% than a average player. In avg. the MVP get 240% more salary than a average player."
   ]
  },
  {
   "cell_type": "markdown",
   "metadata": {},
   "source": [
    "# Conclusion"
   ]
  },
  {
   "cell_type": "markdown",
   "metadata": {},
   "source": [
    "As the analyses shows the avg. salary of MBA players increased from about 50,000 in 1985 to about 4,500,000 in 2015. With an avg. increase rate about 8% and a big salary improvement from 1990 to 1991 with about 74%.\n",
    "\n",
    "If a player mostly playes the LF position he could earn over the 30 years the most salary in average.\n",
    "\n",
    "The last analyses shows that in avg. the MVP of an saison gets 240% more salary than the avg. of the players in this saison.\n",
    "\n",
    "The analyses is limited that it just considers the regualr season games and not includes the playoff games. Also to calculate the average salary per position the portion of different positions a player plays would be a better fit for the analyses as using the position he plays most as basis."
   ]
  }
 ],
 "metadata": {
  "anaconda-cloud": {},
  "kernelspec": {
   "display_name": "Python 3",
   "language": "python",
   "name": "python3"
  },
  "language_info": {
   "codemirror_mode": {
    "name": "ipython",
    "version": 3
   },
   "file_extension": ".py",
   "mimetype": "text/x-python",
   "name": "python",
   "nbconvert_exporter": "python",
   "pygments_lexer": "ipython3",
   "version": "3.6.0"
  }
 },
 "nbformat": 4,
 "nbformat_minor": 1
}
