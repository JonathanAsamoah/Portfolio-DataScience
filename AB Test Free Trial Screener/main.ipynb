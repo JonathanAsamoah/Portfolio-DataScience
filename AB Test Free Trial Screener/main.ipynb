{
 "cells": [
  {
   "cell_type": "markdown",
   "metadata": {},
   "source": [
    "# Project Description:"
   ]
  },
  {
   "cell_type": "markdown",
   "metadata": {
    "collapsed": true
   },
   "source": [
    "The data and the objective of the project was provided by [Udacity](https://udacity.com) as part of the course A/B Testing.\n",
    "\n",
    "The task was to perform an A/B Test for the given objective and data.\n",
    "\n",
    "Udacity students have two opitons to enroll for a course \"start free trial\", and \"access course materials\". If the student clicks \"start free trial\", they will be asked to enter their credit card information, and then they will be enrolled in a free trial for the paid version of the course. After 14 days, they will automatically be charged unless they cancel first. If the student clicks \"access course materials\", they will be able to view the videos and take the quizzes for free, but they will not receive coaching support or a verified certificate, and they will not submit their final project for feedback. "
   ]
  },
  {
   "cell_type": "markdown",
   "metadata": {},
   "source": [
    "## Point of Analyses"
   ]
  },
  {
   "cell_type": "markdown",
   "metadata": {},
   "source": [
    "Udacity tested a change where if the student clicked \"start free trial\", they were asked how much time they had available to devote to the course. If the student indicated 5 or more hours per week, they would be taken through the checkout process as usual. If they indicated fewer than 5 hours per week, a message would appear indicating that Udacity courses usually require a greater time commitment for successful completion, and suggesting that the student might like to access the course materials for free. At this point, the student would have the option to continue enrolling in the free trial, or access the course materials for free instead.\n",
    "\n",
    "Hypothesis:\n",
    "\n",
    "The change might set clearer expectations for students upfront, thus reducing the number of frustrated students who left the free trial because they didn't have enough time—without significantly reducing the number of students to continue past the free trial and eventually complete the course. If this hypothesis held true, Udacity could improve the overall student experience and improve coaches' capacity to support students who are likely to complete the course.\n",
    "\n",
    "The unit of diversion is a cookie, although if the student enrolls in the free trial, they are tracked by user-id from that point forward. The same user-id cannot enroll in the free trial twice. For users that do not enroll, their user-id is not tracked in the experiment, even if they were signed in when they visited the course overview page."
   ]
  },
  {
   "cell_type": "markdown",
   "metadata": {},
   "source": [
    "# Project Preperations"
   ]
  },
  {
   "cell_type": "markdown",
   "metadata": {},
   "source": [
    "## Import Libaries"
   ]
  },
  {
   "cell_type": "code",
   "execution_count": 1,
   "metadata": {
    "collapsed": true
   },
   "outputs": [],
   "source": [
    "import sys\n",
    "import math\n",
    "\n",
    "from IPython.display import display\n",
    "\n",
    "import pandas as pd\n",
    "\n",
    "from scipy.stats import norm, binom_test, fisher_exact, sem\n",
    "from termcolor import colored, cprint"
   ]
  },
  {
   "cell_type": "markdown",
   "metadata": {},
   "source": [
    "## Set Global Variables"
   ]
  },
  {
   "cell_type": "code",
   "execution_count": 2,
   "metadata": {
    "collapsed": true
   },
   "outputs": [],
   "source": [
    "### Path to the baseline values data\n",
    "BASE_PATH = 'data/Final Project Baseline Values.xlsx'\n",
    "\n",
    "### Path to the experiment and controll data\n",
    "RESULTS_PATH = 'data/Final Project Results.xlsx'"
   ]
  },
  {
   "cell_type": "markdown",
   "metadata": {},
   "source": [
    "## Load the Data"
   ]
  },
  {
   "cell_type": "markdown",
   "metadata": {},
   "source": [
    "### Base Values"
   ]
  },
  {
   "cell_type": "code",
   "execution_count": 3,
   "metadata": {
    "collapsed": false
   },
   "outputs": [
    {
     "data": {
      "text/html": [
       "<div>\n",
       "<table border=\"1\" class=\"dataframe\">\n",
       "  <thead>\n",
       "    <tr style=\"text-align: right;\">\n",
       "      <th></th>\n",
       "      <th>Metric</th>\n",
       "      <th>Value</th>\n",
       "    </tr>\n",
       "  </thead>\n",
       "  <tbody>\n",
       "    <tr>\n",
       "      <th>Unique cookies to view page per day:</th>\n",
       "      <td>Unique cookies to view page per day:</td>\n",
       "      <td>40000.000000</td>\n",
       "    </tr>\n",
       "    <tr>\n",
       "      <th>Unique cookies to click \"Start free trial\" per day:</th>\n",
       "      <td>Unique cookies to click \"Start free trial\" per...</td>\n",
       "      <td>3200.000000</td>\n",
       "    </tr>\n",
       "    <tr>\n",
       "      <th>Enrollments per day:</th>\n",
       "      <td>Enrollments per day:</td>\n",
       "      <td>660.000000</td>\n",
       "    </tr>\n",
       "    <tr>\n",
       "      <th>Click-through-probability on \"Start free trial\":</th>\n",
       "      <td>Click-through-probability on \"Start free trial\":</td>\n",
       "      <td>0.080000</td>\n",
       "    </tr>\n",
       "    <tr>\n",
       "      <th>Probability of enrolling, given click:</th>\n",
       "      <td>Probability of enrolling, given click:</td>\n",
       "      <td>0.206250</td>\n",
       "    </tr>\n",
       "    <tr>\n",
       "      <th>Probability of payment, given enroll:</th>\n",
       "      <td>Probability of payment, given enroll:</td>\n",
       "      <td>0.530000</td>\n",
       "    </tr>\n",
       "    <tr>\n",
       "      <th>Probability of payment, given click</th>\n",
       "      <td>Probability of payment, given click</td>\n",
       "      <td>0.109313</td>\n",
       "    </tr>\n",
       "  </tbody>\n",
       "</table>\n",
       "</div>"
      ],
      "text/plain": [
       "                                                                                               Metric  \\\n",
       "Unique cookies to view page per day:                             Unique cookies to view page per day:   \n",
       "Unique cookies to click \"Start free trial\" per ...  Unique cookies to click \"Start free trial\" per...   \n",
       "Enrollments per day:                                                             Enrollments per day:   \n",
       "Click-through-probability on \"Start free trial\":     Click-through-probability on \"Start free trial\":   \n",
       "Probability of enrolling, given click:                         Probability of enrolling, given click:   \n",
       "Probability of payment, given enroll:                           Probability of payment, given enroll:   \n",
       "Probability of payment, given click                               Probability of payment, given click   \n",
       "\n",
       "                                                           Value  \n",
       "Unique cookies to view page per day:                40000.000000  \n",
       "Unique cookies to click \"Start free trial\" per ...   3200.000000  \n",
       "Enrollments per day:                                  660.000000  \n",
       "Click-through-probability on \"Start free trial\":        0.080000  \n",
       "Probability of enrolling, given click:                  0.206250  \n",
       "Probability of payment, given enroll:                   0.530000  \n",
       "Probability of payment, given click                     0.109313  "
      ]
     },
     "metadata": {},
     "output_type": "display_data"
    }
   ],
   "source": [
    "### Load Baseline Values\n",
    "df_base = pd.read_excel(BASE_PATH, header = None)\n",
    "\n",
    "### Set the header\n",
    "df_base.columns = ['Metric', 'Value']\n",
    "### Set the index to the metrics name\n",
    "df_base.index = list(df_base['Metric'])\n",
    "\n",
    "### Display Baseline Values\n",
    "display(df_base)"
   ]
  },
  {
   "cell_type": "markdown",
   "metadata": {},
   "source": [
    "### Experiment Data"
   ]
  },
  {
   "cell_type": "markdown",
   "metadata": {},
   "source": [
    "#### Controll group data"
   ]
  },
  {
   "cell_type": "code",
   "execution_count": 4,
   "metadata": {
    "collapsed": false
   },
   "outputs": [
    {
     "data": {
      "text/html": [
       "<div>\n",
       "<table border=\"1\" class=\"dataframe\">\n",
       "  <thead>\n",
       "    <tr style=\"text-align: right;\">\n",
       "      <th></th>\n",
       "      <th>Date</th>\n",
       "      <th>Pageviews</th>\n",
       "      <th>Clicks</th>\n",
       "      <th>Enrollments</th>\n",
       "      <th>Payments</th>\n",
       "    </tr>\n",
       "  </thead>\n",
       "  <tbody>\n",
       "    <tr>\n",
       "      <th>0</th>\n",
       "      <td>Sat, Oct 11</td>\n",
       "      <td>7723</td>\n",
       "      <td>687</td>\n",
       "      <td>134.0</td>\n",
       "      <td>70.0</td>\n",
       "    </tr>\n",
       "    <tr>\n",
       "      <th>1</th>\n",
       "      <td>Sun, Oct 12</td>\n",
       "      <td>9102</td>\n",
       "      <td>779</td>\n",
       "      <td>147.0</td>\n",
       "      <td>70.0</td>\n",
       "    </tr>\n",
       "    <tr>\n",
       "      <th>2</th>\n",
       "      <td>Mon, Oct 13</td>\n",
       "      <td>10511</td>\n",
       "      <td>909</td>\n",
       "      <td>167.0</td>\n",
       "      <td>95.0</td>\n",
       "    </tr>\n",
       "    <tr>\n",
       "      <th>3</th>\n",
       "      <td>Tue, Oct 14</td>\n",
       "      <td>9871</td>\n",
       "      <td>836</td>\n",
       "      <td>156.0</td>\n",
       "      <td>105.0</td>\n",
       "    </tr>\n",
       "    <tr>\n",
       "      <th>4</th>\n",
       "      <td>Wed, Oct 15</td>\n",
       "      <td>10014</td>\n",
       "      <td>837</td>\n",
       "      <td>163.0</td>\n",
       "      <td>64.0</td>\n",
       "    </tr>\n",
       "  </tbody>\n",
       "</table>\n",
       "</div>"
      ],
      "text/plain": [
       "          Date  Pageviews  Clicks  Enrollments  Payments\n",
       "0  Sat, Oct 11       7723     687        134.0      70.0\n",
       "1  Sun, Oct 12       9102     779        147.0      70.0\n",
       "2  Mon, Oct 13      10511     909        167.0      95.0\n",
       "3  Tue, Oct 14       9871     836        156.0     105.0\n",
       "4  Wed, Oct 15      10014     837        163.0      64.0"
      ]
     },
     "metadata": {},
     "output_type": "display_data"
    }
   ],
   "source": [
    "### Load experiment controll group data \n",
    "df_control = pd.read_excel(RESULTS_PATH, sheetname = 0)\n",
    "\n",
    "### Controll group data\n",
    "display(df_control.head())"
   ]
  },
  {
   "cell_type": "markdown",
   "metadata": {},
   "source": [
    "#### Controll experiment data"
   ]
  },
  {
   "cell_type": "code",
   "execution_count": 5,
   "metadata": {
    "collapsed": false
   },
   "outputs": [
    {
     "data": {
      "text/html": [
       "<div>\n",
       "<table border=\"1\" class=\"dataframe\">\n",
       "  <thead>\n",
       "    <tr style=\"text-align: right;\">\n",
       "      <th></th>\n",
       "      <th>Date</th>\n",
       "      <th>Pageviews</th>\n",
       "      <th>Clicks</th>\n",
       "      <th>Enrollments</th>\n",
       "      <th>Payments</th>\n",
       "    </tr>\n",
       "  </thead>\n",
       "  <tbody>\n",
       "    <tr>\n",
       "      <th>0</th>\n",
       "      <td>Sat, Oct 11</td>\n",
       "      <td>7716</td>\n",
       "      <td>686</td>\n",
       "      <td>105.0</td>\n",
       "      <td>34.0</td>\n",
       "    </tr>\n",
       "    <tr>\n",
       "      <th>1</th>\n",
       "      <td>Sun, Oct 12</td>\n",
       "      <td>9288</td>\n",
       "      <td>785</td>\n",
       "      <td>116.0</td>\n",
       "      <td>91.0</td>\n",
       "    </tr>\n",
       "    <tr>\n",
       "      <th>2</th>\n",
       "      <td>Mon, Oct 13</td>\n",
       "      <td>10480</td>\n",
       "      <td>884</td>\n",
       "      <td>145.0</td>\n",
       "      <td>79.0</td>\n",
       "    </tr>\n",
       "    <tr>\n",
       "      <th>3</th>\n",
       "      <td>Tue, Oct 14</td>\n",
       "      <td>9867</td>\n",
       "      <td>827</td>\n",
       "      <td>138.0</td>\n",
       "      <td>92.0</td>\n",
       "    </tr>\n",
       "    <tr>\n",
       "      <th>4</th>\n",
       "      <td>Wed, Oct 15</td>\n",
       "      <td>9793</td>\n",
       "      <td>832</td>\n",
       "      <td>140.0</td>\n",
       "      <td>94.0</td>\n",
       "    </tr>\n",
       "  </tbody>\n",
       "</table>\n",
       "</div>"
      ],
      "text/plain": [
       "          Date  Pageviews  Clicks  Enrollments  Payments\n",
       "0  Sat, Oct 11       7716     686        105.0      34.0\n",
       "1  Sun, Oct 12       9288     785        116.0      91.0\n",
       "2  Mon, Oct 13      10480     884        145.0      79.0\n",
       "3  Tue, Oct 14       9867     827        138.0      92.0\n",
       "4  Wed, Oct 15       9793     832        140.0      94.0"
      ]
     },
     "metadata": {},
     "output_type": "display_data"
    }
   ],
   "source": [
    "### Load experiment experiment group data \n",
    "df_exp = pd.read_excel(RESULTS_PATH, sheetname = 1)\n",
    "\n",
    "### Controll experiment data\n",
    "display(df_exp.head())"
   ]
  },
  {
   "cell_type": "markdown",
   "metadata": {},
   "source": [
    "# Perform A/B Test"
   ]
  },
  {
   "cell_type": "markdown",
   "metadata": {},
   "source": [
    "## Metric Choice"
   ]
  },
  {
   "cell_type": "markdown",
   "metadata": {},
   "source": [
    "### Invariant Metrics"
   ]
  },
  {
   "cell_type": "markdown",
   "metadata": {},
   "source": [
    "*  <span style=\"color:blue\">**Number of cookies:** That is, number of unique cookies to view the course overview page.</span> \n",
    "*  <span style=\"color:blue\">**Number of clicks:** That is, number of unique cookies to click the \"Start free trial\" button (which happens before the free trial screener is trigger).</span> \n",
    "*  <span style=\"color:blue\">**Click-through-probability:** That is, number of unique cookies to click the \"Start free trial\" button divided by number of unique cookies to view the course overview page.</span> \n"
   ]
  },
  {
   "cell_type": "markdown",
   "metadata": {},
   "source": [
    "##### Rationale"
   ]
  },
  {
   "cell_type": "markdown",
   "metadata": {},
   "source": [
    "**Unit of diversion: Cookie**\n",
    "\n",
    "* **Number of cookies:** As it is the unit of diversion, it is ranomly assigned the experiment and controll group.\n",
    "* **Number of user-ids:** Since it happens after the free trial screener is triggered the number of user-ids should be affected by the change.\n",
    "* **Number of clicks:** Since it happens before the free trial screener is triggered the number of clicks shouldn't be affected by the change. They are not directly randomized but split evenly between the groups.\n",
    "* **Click-through-probability:** Since it happens before the free trial screener is triggered the CTP shouldn't be affected by the change.\n",
    "* **Gross conversion|Retention|Net conversion:** All of these depends on the user-ids that are affected by the change.\n",
    "\n"
   ]
  },
  {
   "cell_type": "markdown",
   "metadata": {},
   "source": [
    "### Evaluation Metrics"
   ]
  },
  {
   "cell_type": "markdown",
   "metadata": {},
   "source": [
    "\n",
    "*  <span style=\"color:blue\">**Gross conversion:** That is, number of user-ids to complete checkout and enroll in the free trial divided by number of unique cookies to click the \"Start free trial\" button. </span>\n",
    "*  <span style=\"color:blue\">**Retention:** That is, number of user-ids to remain enrolled past the 14-day boundary (and thus make at least one payment) divided by number of user-ids to complete checkout.</span> \n",
    "*  <span style=\"color:blue\">**Net conversion:** That is, number of user-ids to remain enrolled past the 14-day boundary (and thus make at least one payment) divided by the number of unique cookies to click the \"Start free trial\" button.</span> \n"
   ]
  },
  {
   "cell_type": "markdown",
   "metadata": {},
   "source": [
    "##### Rationale"
   ]
  },
  {
   "cell_type": "markdown",
   "metadata": {},
   "source": [
    "* **Gross conversion:**  Used as evalution metric to evalute if the number of user-ids to complete checkout and enroll in the free trial divided by number of unique cookies to click the \"Start free trial\" button changes. Expected results: Decreases because less people should decide for the free trial.\n",
    "* **Retention:** Not used as an evalution metric because it would need a to big sample size to be releveant. \n",
    "* **Net conversion:** Used as evalution metric to evalute if the number of user-ids to remain enrolled past the 14-day boundary divided by the number of unique cookies to click the \"Start free trial\" button changes. Expected results: Stays on the same level or increase."
   ]
  },
  {
   "cell_type": "markdown",
   "metadata": {},
   "source": [
    "##### Rationale for ignoring number of user-ids"
   ]
  },
  {
   "cell_type": "markdown",
   "metadata": {},
   "source": [
    "Since th user-ids are collected after the free trial screener is triggered the metric is affeted by the change and therefore, it would be no good invariant metric. \n",
    "\n",
    "It is not used as evalution metric as it represents the raw count of users who enroll in the free trial, that is related to the metric gross conversion. Since both encodes similar information we keep that metric that performs better on the experiment setup.   \n",
    "The reason for this is that the gross conversion is able to normalize between different sized experiment and control groups, because it uses the number of cookies as denominator. Therfore the metric will adjust to different number of cookies between the experiment and controll group and will be more accurate than the raw raw count of users-ids."
   ]
  },
  {
   "cell_type": "markdown",
   "metadata": {},
   "source": [
    "## Measuring Variability"
   ]
  },
  {
   "cell_type": "markdown",
   "metadata": {},
   "source": [
    "### Analytical estimate of the standard deviation"
   ]
  },
  {
   "cell_type": "markdown",
   "metadata": {},
   "source": [
    "### Compute baseline values for 5000 pageviews"
   ]
  },
  {
   "cell_type": "code",
   "execution_count": 6,
   "metadata": {
    "collapsed": false
   },
   "outputs": [
    {
     "data": {
      "text/html": [
       "<div>\n",
       "<table border=\"1\" class=\"dataframe\">\n",
       "  <thead>\n",
       "    <tr style=\"text-align: right;\">\n",
       "      <th></th>\n",
       "      <th>Metric</th>\n",
       "      <th>Value</th>\n",
       "      <th>ValueSample</th>\n",
       "    </tr>\n",
       "  </thead>\n",
       "  <tbody>\n",
       "    <tr>\n",
       "      <th>Unique cookies to view page per day:</th>\n",
       "      <td>Unique cookies to view page per day:</td>\n",
       "      <td>40000.000000</td>\n",
       "      <td>5000.000000</td>\n",
       "    </tr>\n",
       "    <tr>\n",
       "      <th>Unique cookies to click \"Start free trial\" per day:</th>\n",
       "      <td>Unique cookies to click \"Start free trial\" per...</td>\n",
       "      <td>3200.000000</td>\n",
       "      <td>400.000000</td>\n",
       "    </tr>\n",
       "    <tr>\n",
       "      <th>Enrollments per day:</th>\n",
       "      <td>Enrollments per day:</td>\n",
       "      <td>660.000000</td>\n",
       "      <td>82.500000</td>\n",
       "    </tr>\n",
       "    <tr>\n",
       "      <th>Click-through-probability on \"Start free trial\":</th>\n",
       "      <td>Click-through-probability on \"Start free trial\":</td>\n",
       "      <td>0.080000</td>\n",
       "      <td>0.010000</td>\n",
       "    </tr>\n",
       "    <tr>\n",
       "      <th>Probability of enrolling, given click:</th>\n",
       "      <td>Probability of enrolling, given click:</td>\n",
       "      <td>0.206250</td>\n",
       "      <td>0.025781</td>\n",
       "    </tr>\n",
       "    <tr>\n",
       "      <th>Probability of payment, given enroll:</th>\n",
       "      <td>Probability of payment, given enroll:</td>\n",
       "      <td>0.530000</td>\n",
       "      <td>0.066250</td>\n",
       "    </tr>\n",
       "    <tr>\n",
       "      <th>Probability of payment, given click</th>\n",
       "      <td>Probability of payment, given click</td>\n",
       "      <td>0.109313</td>\n",
       "      <td>0.013664</td>\n",
       "    </tr>\n",
       "  </tbody>\n",
       "</table>\n",
       "</div>"
      ],
      "text/plain": [
       "                                                                                               Metric  \\\n",
       "Unique cookies to view page per day:                             Unique cookies to view page per day:   \n",
       "Unique cookies to click \"Start free trial\" per ...  Unique cookies to click \"Start free trial\" per...   \n",
       "Enrollments per day:                                                             Enrollments per day:   \n",
       "Click-through-probability on \"Start free trial\":     Click-through-probability on \"Start free trial\":   \n",
       "Probability of enrolling, given click:                         Probability of enrolling, given click:   \n",
       "Probability of payment, given enroll:                           Probability of payment, given enroll:   \n",
       "Probability of payment, given click                               Probability of payment, given click   \n",
       "\n",
       "                                                           Value  ValueSample  \n",
       "Unique cookies to view page per day:                40000.000000  5000.000000  \n",
       "Unique cookies to click \"Start free trial\" per ...   3200.000000   400.000000  \n",
       "Enrollments per day:                                  660.000000    82.500000  \n",
       "Click-through-probability on \"Start free trial\":        0.080000     0.010000  \n",
       "Probability of enrolling, given click:                  0.206250     0.025781  \n",
       "Probability of payment, given enroll:                   0.530000     0.066250  \n",
       "Probability of payment, given click                     0.109313     0.013664  "
      ]
     },
     "metadata": {},
     "output_type": "display_data"
    }
   ],
   "source": [
    "### Set number of samples\n",
    "sampleSize = 5000\n",
    "\n",
    "### Compute \n",
    "factor = df_base['Value']['Unique cookies to view page per day:'] / sampleSize\n",
    "\n",
    "### Compute baseline values for 5000 pageviews\n",
    "df_base['ValueSample'] = df_base['Value'] / factor\n",
    "\n",
    "### Print the baseline values for the number of samples\n",
    "display(df_base)"
   ]
  },
  {
   "cell_type": "markdown",
   "metadata": {},
   "source": [
    "### Compute analytic estimates of variance"
   ]
  },
  {
   "cell_type": "code",
   "execution_count": 7,
   "metadata": {
    "collapsed": false
   },
   "outputs": [
    {
     "name": "stdout",
     "output_type": "stream",
     "text": [
      "\u001b[34mStandard deviation(SE) gross conversion: 0.0202\u001b[0m (accurate)\n",
      "\u001b[34mStandard deviation(SE) retention: 0.0549\u001b[0m (accurate)\n",
      "\u001b[34mStandard deviation(SE) net conversion: 0.0156\u001b[0m (accurate)\n"
     ]
    }
   ],
   "source": [
    "def calc_std(p, N):\n",
    "    \"\"\" Computes the analytic estimate of variance (std) using the formuala:\n",
    "       p(1-p) / n\n",
    "\n",
    "    Args:\n",
    "        p, probaility\n",
    "        N, number of samples\n",
    "\n",
    "    Returns:\n",
    "        std\n",
    "    \"\"\"\n",
    "    return math.sqrt(p* (1-p) / N)\n",
    "\n",
    "\n",
    "### Compute the std for probability of enrolling, given click:\n",
    "std_enrolling = calc_std(df_base['Value']['Probability of enrolling, given click:'],\n",
    "                         df_base['ValueSample']['Unique cookies to click \"Start free trial\" per day:'])\n",
    "\n",
    "### Compute the std for probability of payment, given enroll:\n",
    "std_payment_enroll = calc_std(df_base['Value']['Probability of payment, given enroll:'], \n",
    "                              df_base['ValueSample']['Enrollments per day:'])\n",
    "\n",
    "### Compute the std for probability of payment, given click\n",
    "std_payment_click = calc_std(df_base['Value']['Probability of payment, given click'], \n",
    "                             df_base['ValueSample']['Unique cookies to click \"Start free trial\" per day:'])\n",
    "\n",
    "\n",
    "### Print the std for the evalution metrics\n",
    "print(colored(\"Standard deviation(SE) gross conversion: \" +\n",
    "              str(round(std_enrolling,4)), 'blue') + \n",
    "              ' (accurate)')\n",
    "print(colored(\"Standard deviation(SE) retention: \" +\n",
    "              str(round(std_payment_enroll,4)), 'blue') + \n",
    "              ' (accurate)')\n",
    "print(colored(\"Standard deviation(SE) net conversion: \" +\n",
    "              str(round(std_payment_click,4)), 'blue') + \n",
    "              ' (accurate)')"
   ]
  },
  {
   "cell_type": "markdown",
   "metadata": {},
   "source": [
    "#### Rationale"
   ]
  },
  {
   "cell_type": "markdown",
   "metadata": {},
   "source": [
    "\n",
    "\n",
    "For the metrics we can look if the unit of diversion and the unit of the evalution metric mates. If this is the case the analytic estimate  can be used and there is no need to use the empirical estimate.\n",
    "\n",
    "*  Standard deviation(SE) gross conversion: As the unit of diversion is cookies and gross conversion is defined as \"The number of user-ids to complete checkout and enroll in the free trial divided by number of unique cookies to click the \"Start free trial\" button\", the unit of denominator of the fraction is also cookies. Because both the unit of diversion and the unit denominator are the same the analytic estimates can be used and it is accurate.\n",
    "\n",
    "*  Standard deviation(SE) retention: As he unit of diversion is cookies and retention is defined as \" The number of user-ids to remain enrolled past the 14-day boundary divided by number of user-ids to complete checkout\", the unit of denominator of the fraction is the user-id. Both does not exactly match, but as the user-id should be nearly identical to the cookie expect in cases there the user switches the devices, the browser or removes the cookies. It the unit of the unit of diversion and the unit of denominator of the fraction should almost match. Therefore, as the unit of diversion and the unit denominator are the nearly the same unit the analytic estimates should be mostly accurate, but as it is not exactly the same if there is time further data should become be collected to have a mor accurate estimate.\n",
    "\n",
    "*  Standard deviation(SE) net conversion: As the unit of diversion is cookies and net conversion is defined as \"The number of user-ids to remain enrolled past the 14-day boundary divided by the number of unique cookies to click the \"Start free trial\" button.\", the unit of denominator of the fraction is also cookies. Because both the unit of diversion and the unit denominator are the same the analytic estimates can be used and it is accurate."
   ]
  },
  {
   "cell_type": "markdown",
   "metadata": {},
   "source": [
    "## Sizing"
   ]
  },
  {
   "cell_type": "markdown",
   "metadata": {},
   "source": [
    "### Number of Samples vs. Power"
   ]
  },
  {
   "cell_type": "markdown",
   "metadata": {},
   "source": [
    "#### Bonferroni correction"
   ]
  },
  {
   "cell_type": "markdown",
   "metadata": {},
   "source": [
    "Not used, because the of the high correlation of the metrics and then it will be a to conservative method."
   ]
  },
  {
   "cell_type": "markdown",
   "metadata": {},
   "source": [
    "#### Practical significance boundaries ($d_{min}$):"
   ]
  },
  {
   "cell_type": "markdown",
   "metadata": {},
   "source": [
    "*  Gross conversion $d_{min}$: 0.01\n",
    "*  Retention $d_{min}$: 0.01\n",
    "*  Net conversion $d_{min}$: 0.0075"
   ]
  },
  {
   "cell_type": "markdown",
   "metadata": {},
   "source": [
    "#### Calculate required sample size"
   ]
  },
  {
   "cell_type": "code",
   "execution_count": 8,
   "metadata": {
    "collapsed": false
   },
   "outputs": [
    {
     "name": "stdout",
     "output_type": "stream",
     "text": [
      "\u001b[34mSample size gross conversion: 25699\u001b[0m\n",
      "\u001b[34mSample size retention: 39104\u001b[0m\n",
      "\u001b[34mSample size net conversion: 27172\u001b[0m\n"
     ]
    }
   ],
   "source": [
    "def get_z_star(alpha):\n",
    "    \"\"\" Computes the z-critical value for given alpha\n",
    "\n",
    "    Args:\n",
    "        alpha\n",
    "\n",
    "    Returns:\n",
    "        Z-value\n",
    "    \"\"\"\n",
    "    return -norm.ppf(alpha / 2)\n",
    "\n",
    "def get_beta(z_star, s, d_min, N):\n",
    "    \"\"\" Computes the Z-value for given alpha\n",
    "\n",
    "    Args:\n",
    "        z-star, The z-critical value\n",
    "        s, The standard error of the metric at N=1\n",
    "        d_min, The practical significance level\n",
    "        N, The sample size of each group of the experiment\n",
    "\n",
    "    Returns:\n",
    "        beta value of the two-tailed t-test\n",
    "    \"\"\"\n",
    "    \n",
    "    ### Compute the SE\n",
    "    SE = s / math.sqrt(N)\n",
    "\n",
    "    ### Compute and return beta value\n",
    "    return (norm.cdf(z_star * SE ,loc=d_min,scale=SE))\n",
    "\n",
    "def clac_sample_size(s, d_min, N=20000, alpha=0.05, beta=0.2):\n",
    "    \"\"\" Computes the needed sample size\n",
    "\n",
    "    Args:\n",
    "        z-star, The z-critical value\n",
    "        s, The standard error of the metric at N=1\n",
    "        d_min, The practical significance level\n",
    "        N, The sample size of each group of the experiment\n",
    "\n",
    "    Returns:\n",
    "        Smallest number of N to achieve the desired beta. \n",
    "        If none found it returns -1.\n",
    "    \"\"\"\n",
    "    \n",
    "    ### Initalize list generator Ns for given N\n",
    "    Ns = (x for x in range(1,N,1))\n",
    "    \n",
    "    ### Loop through the list of possible N and return N if threshold is meet\n",
    "    for N in Ns:\n",
    "        \n",
    "        ### Compute beta value\n",
    "        beta_value = get_beta(get_z_star(alpha), s, d_min, N)\n",
    "        \n",
    "        ### Check if beta value is smaller as beta\n",
    "        if beta_value <= beta:\n",
    "\n",
    "            return N\n",
    "        \n",
    "    return -1\n",
    "\n",
    "\n",
    "### Compute the sample size for probability of enrolling, given click:\n",
    "ss_gross_conversion = clac_sample_size(s=std_enrolling*math.sqrt(2)*math.sqrt(df_base['ValueSample']['Unique cookies to click \"Start free trial\" per day:']),\n",
    "                                       d_min=0.01,\n",
    "                                       N= 3000000)\n",
    "\n",
    "### Compute the sample size for probability of payment, given enroll:\n",
    "ss_retention = clac_sample_size(s=std_payment_enroll*math.sqrt(2)*math.sqrt(df_base['ValueSample']['Enrollments per day:']),\n",
    "                                       d_min=0.01,\n",
    "                                       N= 3000000)\n",
    "\n",
    "### Compute the sample size for probability of payment, given click\n",
    "ss_net_conversion = clac_sample_size(std_payment_click*math.sqrt(2)*math.sqrt(df_base['ValueSample']['Unique cookies to click \"Start free trial\" per day:']),\n",
    "                                       d_min=0.0075,\n",
    "                                       N= 3000000)\n",
    "\n",
    "### Print the smallest needed sample size for the evalution metrics\n",
    "print(colored(\"Sample size gross conversion: \" + str(ss_gross_conversion), 'blue'))\n",
    "print(colored(\"Sample size retention: \" + str(ss_retention), 'blue'))\n",
    "print(colored(\"Sample size net conversion: \" + str(ss_net_conversion), 'blue'))"
   ]
  },
  {
   "cell_type": "markdown",
   "metadata": {},
   "source": [
    "#### Calculate required page views"
   ]
  },
  {
   "cell_type": "code",
   "execution_count": 9,
   "metadata": {
    "collapsed": false
   },
   "outputs": [
    {
     "name": "stdout",
     "output_type": "stream",
     "text": [
      "Page views gross conversion: 642475.0\n",
      "Page views retention: 4739878.78788\n",
      "Page views net conversion: 679300.0\n"
     ]
    }
   ],
   "source": [
    "def calc_pageviews(ss, x, y):\n",
    "    \"\"\" Computes smallest number of needed pageviews\n",
    "\n",
    "    Args:\n",
    "        ss, smallest number of samples\n",
    "        x\n",
    "        y\n",
    "       \n",
    "    Returns:\n",
    "        needed pageviews\n",
    "    \"\"\"\n",
    "    \n",
    "    return (ss/(y/x))*2\n",
    "\n",
    "### Compute the pageviews for probability of enrolling, given click:\n",
    "pv_gross_conversion = calc_pageviews(ss_gross_conversion,\n",
    "                                     df_base['Value']['Unique cookies to view page per day:'],\n",
    "                                     df_base['Value']['Unique cookies to click \"Start free trial\" per day:'])\n",
    "\n",
    "### Compute the pageviews for probability of payment, given enroll:\n",
    "pv_retention = calc_pageviews(ss_retention,\n",
    "                                     df_base['Value']['Unique cookies to view page per day:'],\n",
    "                                     df_base['Value']['Enrollments per day:'])\n",
    "\n",
    "### Compute the pageviews for probability of payment, given click\n",
    "pv_net_conversion = calc_pageviews(ss_net_conversion,\n",
    "                                     df_base['Value']['Unique cookies to view page per day:'],\n",
    "                                     df_base['Value']['Unique cookies to click \"Start free trial\" per day:'])\n",
    "\n",
    "### Print the smallest needed pageviews for the evalution metrics\n",
    "print(\"Page views gross conversion: \" + str(pv_gross_conversion))\n",
    "print(\"Page views retention: \" + str(pv_retention))\n",
    "print(\"Page views net conversion: \" + str(pv_net_conversion))"
   ]
  },
  {
   "cell_type": "markdown",
   "metadata": {},
   "source": [
    "#### Compute total needed pageviews"
   ]
  },
  {
   "cell_type": "code",
   "execution_count": 10,
   "metadata": {
    "collapsed": false
   },
   "outputs": [
    {
     "name": "stdout",
     "output_type": "stream",
     "text": [
      "Number of needed page views: 679300.0\n"
     ]
    }
   ],
   "source": [
    "### Create a list of results\n",
    "#pv_list = [pv_gross_conversion, pv_retention, pv_net_conversion]\n",
    "pv_list = [pv_gross_conversion, pv_net_conversion]\n",
    "\n",
    "### Compute total needed pageviews\n",
    "pv = max(pv_list)\n",
    "\n",
    "### Print total needed pageviews\n",
    "print('Number of needed page views: ' + str(pv))"
   ]
  },
  {
   "cell_type": "markdown",
   "metadata": {},
   "source": [
    "### Duration vs. Exposure"
   ]
  },
  {
   "cell_type": "markdown",
   "metadata": {},
   "source": [
    "The fraction of traffic is exposed to run this experiment is set to 1. Therefore 50% of the traffic will go in the controll group and 50% in the experiment group.\n",
    "\n",
    "The reason there in this experiment a fration of 1 is used is, that risk for this experiment is minimal. Because there is no potential harm for the participants as for this experiment cookies are used to identify the users no personal information is collected. Expect in some cases there the user-id is used to distinguish the participants, but even in this case it is just use to distinguish the participants and no further information about the participants is stored and also the participants are not beocome distinguishable through the usage.\n",
    "Therefore, there is no risk higher than minimal of harm for the participants and the we can use all the traffic."
   ]
  },
  {
   "cell_type": "code",
   "execution_count": 11,
   "metadata": {
    "collapsed": false
   },
   "outputs": [
    {
     "name": "stdout",
     "output_type": "stream",
     "text": [
      "Duration of the experiment: 17 days\n"
     ]
    }
   ],
   "source": [
    "### Set Fraction\n",
    "fraction = 1\n",
    "\n",
    "### Calculate experiment runtime\n",
    "exp_duration = math.ceil(pv / (df_base['Value']['Unique cookies to view page per day:'] * fraction))\n",
    "\n",
    "### Print result\n",
    "print('Duration of the experiment: ' + str(exp_duration) + \" days\")"
   ]
  },
  {
   "cell_type": "markdown",
   "metadata": {},
   "source": [
    "##### Rationale for removing retention as metric"
   ]
  },
  {
   "cell_type": "markdown",
   "metadata": {},
   "source": [
    "If we would want to use retention as evalution metric we would have a experiment runtime of 119 days. Therefore, we made the decission as this is experiment runtime is not practial so we decided to not consider etention as evalution metric."
   ]
  },
  {
   "cell_type": "markdown",
   "metadata": {},
   "source": [
    "## Experiment Analysis"
   ]
  },
  {
   "cell_type": "markdown",
   "metadata": {},
   "source": [
    "### Sanity Checks"
   ]
  },
  {
   "cell_type": "code",
   "execution_count": 12,
   "metadata": {
    "collapsed": false
   },
   "outputs": [
    {
     "name": "stdout",
     "output_type": "stream",
     "text": [
      "CI for number of cookies: \u001b[34m(0.4988, 0.5012)\u001b[0m Observed: \u001b[34m0.5006\u001b[0m\u001b[34m passed\u001b[0m\n",
      "CI for number of user-ids \u001b[34m(0.4959, 0.5041)\u001b[0m Observed: \u001b[34m0.5005\u001b[0m\u001b[34m passed\u001b[0m\n",
      "CI for CTP: \u001b[34m(0.0812, 0.083)\u001b[0m Observed: \u001b[34m0.0822\u001b[0m\u001b[34m passed\u001b[0m\n"
     ]
    }
   ],
   "source": [
    "def conf_interval(controll, experiment, p):\n",
    "    \"\"\" Computes confidence interval for a given experiment and controll group sample size\n",
    "        and a given probability\n",
    "\n",
    "    Args:\n",
    "        controll, number of samples in the controll group\n",
    "        experiment, number of sample in the experiment group\n",
    "        p, probability\n",
    "       \n",
    "    Returns:\n",
    "        lower and upper bound of the confidence interval\n",
    "    \"\"\"\n",
    "    ### Estimate the standard deviation\n",
    "    std = math.sqrt((p * (1-p)) / (controll + experiment))\n",
    "    \n",
    "    ### Calculate margin of error\n",
    "    me = 1.96 * std\n",
    "    \n",
    "    ### Return CI\n",
    "    return (round(p - me, 4), round(p + me, 4))\n",
    "\n",
    "\n",
    "### Calculate observed value for number of cookies\n",
    "observed_cookies = round(df_control['Pageviews'].sum() /\n",
    "                         (df_control['Pageviews'].sum() +\n",
    "                          df_exp['Pageviews'].sum()), 4)\n",
    "\n",
    "### Print confidence interval for number of cookies and the observed value\n",
    "print('CI for number of cookies: '+ \n",
    "      colored(str(conf_interval(df_exp['Pageviews'].sum(),df_control['Pageviews'].sum(), 0.5)),'blue')+\n",
    "      ' Observed: '+\n",
    "      colored(str(observed_cookies),'blue')+\n",
    "      colored(' passed', 'blue'))\n",
    "\n",
    "### Calculate observed value for number of clicks \n",
    "observed_user_ids = round(df_control['Clicks'].sum() /\n",
    "                          (df_control['Clicks'].sum() +\n",
    "                           df_exp['Clicks'].sum()), 4)\n",
    "\n",
    "### Print confidence interval for number of clicks and the observed value\n",
    "print('CI for number of user-ids '+\n",
    "      colored(str(conf_interval(df_exp['Clicks'].sum(),df_control['Clicks'].sum(), 0.5)),'blue')+\n",
    "      ' Observed: '+\n",
    "      colored(str(observed_user_ids),'blue')+\n",
    "      colored(' passed', 'blue'))\n",
    "\n",
    "### Calculate observed value for Click-through-probability\n",
    "observed_ctp = df_exp['Clicks'].sum() / df_exp['Pageviews'].sum()\n",
    "\n",
    "### Calculate click probaility\n",
    "click_prob = df_control['Clicks'].sum() / df_control['Pageviews'].sum()\n",
    "\n",
    "### Print confidence interval for Click-through-probability and the observed value\n",
    "print('CI for CTP: '+ \n",
    "      colored(str(conf_interval(df_exp['Pageviews'].sum(),0, click_prob)),'blue')+\n",
    "      ' Observed: '+\n",
    "      colored(str(round(observed_ctp,4)),'blue')+\n",
    "      colored(' passed', 'blue'))"
   ]
  },
  {
   "cell_type": "markdown",
   "metadata": {},
   "source": [
    "#### Rationale"
   ]
  },
  {
   "cell_type": "markdown",
   "metadata": {},
   "source": [
    "For all three invariant metrics the observed value lays within the CI. Therefore, the sanity check is passed for all three metrics."
   ]
  },
  {
   "cell_type": "markdown",
   "metadata": {},
   "source": [
    "### Result Analysis"
   ]
  },
  {
   "cell_type": "markdown",
   "metadata": {},
   "source": [
    "#### Practical significance boundaries ($d_{min}$):"
   ]
  },
  {
   "cell_type": "markdown",
   "metadata": {},
   "source": [
    "*  Gross conversion $d_{min}$: 0.01\n",
    "*  Net conversion $d_{min}$: 0.0075"
   ]
  },
  {
   "cell_type": "markdown",
   "metadata": {},
   "source": [
    "#### Effect Size Tests"
   ]
  },
  {
   "cell_type": "code",
   "execution_count": 13,
   "metadata": {
    "collapsed": false
   },
   "outputs": [
    {
     "name": "stdout",
     "output_type": "stream",
     "text": [
      "CI gross conversion: \u001b[34m(-0.0291, -0.012)\u001b[0m d: \u001b[34m-0.0206\u001b[0m\n",
      "CI net conversion: \u001b[34m(-0.0116, 0.0019)\u001b[0m d: \u001b[34m-0.0049\u001b[0m\n"
     ]
    }
   ],
   "source": [
    "def conf_interval_effect(controll_n, controll_x, experiment_n, experiment_x):\n",
    "    \"\"\" Computes confidence interval and the d value\n",
    "\n",
    "    Args:\n",
    "        controll_n, number of total samples for the controll group\n",
    "        controll_x, number of target samples for the controll group\n",
    "        experiment_n, number of total samples for the experiment group\n",
    "        experiment_x number of target samples for the experiment group\n",
    "       \n",
    "    Returns:\n",
    "        lower and upper bound of the confidence interval and the d value\n",
    "    \"\"\"\n",
    "\n",
    "    ### Calculate pooled probaiity\n",
    "    p = (controll_x + experiment_x) / (controll_n + experiment_n)\n",
    "\n",
    "    ### Calculate pooled SE\n",
    "    SE = math.sqrt(p * (1-p)*((1/controll_n)+(1/experiment_n)))\n",
    "\n",
    "    ### Calcualte difference for probaility\n",
    "    d = (experiment_x/experiment_n) - (controll_x/controll_n)\n",
    "\n",
    "    ### Calculate margin of error\n",
    "    me = 1.96 * SE\n",
    "    \n",
    "    ### Return CI and d value\n",
    "    return ((round(d - me, 4), round(d + me, 4)), round(d,4))\n",
    "\n",
    "### Remove rows with empty Enrollments or Payments column\n",
    "df_con_no_nan = df_control[['Clicks', 'Enrollments', 'Payments']].dropna()\n",
    "df_exp_no_nan = df_exp[['Clicks', 'Enrollments', 'Payments']].dropna()\n",
    "\n",
    "### Calculate CI and d value for gross conversion\n",
    "effect_gross = conf_interval_effect(df_con_no_nan['Clicks'].sum(),\n",
    "                                    df_con_no_nan['Enrollments'].sum(),\n",
    "                                    df_exp_no_nan['Clicks'].sum(),\n",
    "                                    df_exp_no_nan['Enrollments'].sum())\n",
    "\n",
    "### Calculate CI and d value for net conversion\n",
    "effect_net = conf_interval_effect(df_con_no_nan['Clicks'].sum(),\n",
    "                                  df_con_no_nan['Payments'].sum(),\n",
    "                                  df_exp_no_nan['Clicks'].sum(),\n",
    "                                  df_exp_no_nan['Payments'].sum())\n",
    "\n",
    "### Print confidence interval and d for gross conversion\n",
    "print('CI gross conversion: ' + \n",
    "      colored(str(effect_gross[0]),'blue') + \n",
    "      ' d: ' +\n",
    "      colored(str(effect_gross[1]), 'blue'))\n",
    "\n",
    "### Print confidence interval and d for net conversion\n",
    "print('CI net conversion: ' +\n",
    "      colored(str(effect_net[0]),'blue') + \n",
    "      ' d: ' +\n",
    "      colored(str(effect_net[1]), 'blue'))"
   ]
  },
  {
   "cell_type": "markdown",
   "metadata": {},
   "source": [
    "##### Rationale"
   ]
  },
  {
   "cell_type": "markdown",
   "metadata": {},
   "source": [
    "Since for gross conversion zero is not included in the CI there is a is statistical significance and also $d_{min}$ and $-d_{min}$ lays not within the CI there is also a practical significance.\n",
    "\n",
    "Since for net conversion zero is included in the CI there is a is no statistical significance and therefore, also not practical significance."
   ]
  },
  {
   "cell_type": "markdown",
   "metadata": {},
   "source": [
    "#### Sign Tests for alpha level of 0.05"
   ]
  },
  {
   "cell_type": "code",
   "execution_count": 14,
   "metadata": {
    "collapsed": false
   },
   "outputs": [
    {
     "name": "stdout",
     "output_type": "stream",
     "text": [
      "P-value gross conversion: \u001b[34m0.0026\u001b[0m\n",
      "P-value net conversion: \u001b[34m0.6776\u001b[0m\n"
     ]
    }
   ],
   "source": [
    "### Compute the rate for gross conversion for the\n",
    "### controll and experiment data and also drop the rows \n",
    "### for that no information is available\n",
    "df_exp['Gross Conversion'] = df_exp['Enrollments']/df_exp['Clicks']\n",
    "df_exp['Net Conversion'] = df_exp['Payments']/df_exp['Clicks']\n",
    "df_exp.dropna(inplace = True)\n",
    "\n",
    "df_control['Gross Conversion'] = df_control['Enrollments']/df_control['Clicks']\n",
    "df_control['Net Conversion'] = df_control['Payments']/df_control['Clicks']\n",
    "df_control.dropna(inplace = True)\n",
    "\n",
    "### Compute the sucess for gross conversion\n",
    "gc_success = sum(df_exp['Gross Conversion'] - df_control['Gross Conversion'] > 0)\n",
    "\n",
    "### Compute the sucess for net conversion\n",
    "nc_success = sum(df_exp['Net Conversion'] - df_control['Net Conversion'] > 0)\n",
    "\n",
    "### Compute the p-value for gross conversion\n",
    "p_gross = round(binom_test(gc_success, len(df_exp), 0.5),4)\n",
    "\n",
    "### Compute the p-value for net conversion\n",
    "p_net = round(binom_test(nc_success, len(df_exp), 0.5),4)\n",
    "\n",
    "### Print the p values\n",
    "print('P-value gross conversion: ' + colored(str(p_gross), 'blue'))\n",
    "print('P-value net conversion: ' + colored(str(p_net), 'blue'))"
   ]
  },
  {
   "cell_type": "markdown",
   "metadata": {},
   "source": [
    "##### Rationale"
   ]
  },
  {
   "cell_type": "markdown",
   "metadata": {},
   "source": [
    "As the p-value for gross conversion is less than the alpha value of 0.05 the change is statistical significant.\n",
    "\n",
    "As the p-value for net conversion is greater than the alpha value of 0.05 the change is not statistical significant."
   ]
  },
  {
   "cell_type": "markdown",
   "metadata": {},
   "source": [
    "#### Summary"
   ]
  },
  {
   "cell_type": "markdown",
   "metadata": {},
   "source": [
    "The Bonferroni correction is not used as as all metrics must be satisfied to trigger launch. All metrics must be satisfied, because it has to be verified that students that get potential frustrated are more unlikely to enroll in the free trial (represented by the gross conversion) and addtionaly it has to be verified that the number of students that are likely to make payments is not reduced (represented by the net conversion).\n",
    "Therefore, as both of the metrics must be satisfied the Bonferroni correction is not an apropriate choice.\n",
    "\n",
    "The results of the effect size tests and the sign tests both came to the same result. That the groos conversion is statistically significant reduced and the net conversion rate is not statistically significant improved."
   ]
  },
  {
   "cell_type": "markdown",
   "metadata": {},
   "source": [
    "## Recommendation"
   ]
  },
  {
   "cell_type": "markdown",
   "metadata": {},
   "source": [
    "As a result of the A/B-Test I would recommend to not add the feature, because the test shows that hypothesis related to the feature does not held true.  \n",
    "\n",
    "The hypothesis relates that the gross conversion must decrease and on the same time the net conversion must increase, because if there is a lower rate of users who enroll in the free trail there have to be a higher fraction of users that stay after the free trail to compensate the users that does not enroll in free trail.\n",
    "\n",
    "On the one hand side the tests shows that the groos conversion is statistically significant reduced, which represents the users joining the free trial which agrees with the hypothesis.\n",
    "\n",
    "On the other hand side the tests shows that there is no statistically significant prove for a improve of the net conversion. P-value < alpha. Even if the net conversion doesn't change there is a decrease of users that stays after the free trail. As if the groos conversion decrease the number of enrolled users in the free trail decreases. Therefore, the fraction of users that doesn't leave after the free trial has to be higher, what is represented through the net conversion metric. "
   ]
  },
  {
   "cell_type": "markdown",
   "metadata": {},
   "source": [
    "# Follow-Up Experiment"
   ]
  },
  {
   "cell_type": "markdown",
   "metadata": {},
   "source": [
    "Remove the free trail period. To reduce the number of frustrated students the free trail period is removed. Therefore, the button for start the 14 day free trail period is replaced by a start button that will directly lead to a payed enrollemnt.\n",
    "\n",
    "Hypothesis:\n",
    "By removing the free trail period the students are forced to make a decision if they want attend the course before they enrolled, after enrollemnt the students more likely to invest time for this course and the students want not leave the course at the first point they encounter any difficulties. Thus the number of frustrated students is reduced, but at the same time the number of students that directly enroll increases in comparison to the students that make there first payment after the 14 day free trail period.\n",
    "\n",
    "The invariant metrics are:\n",
    "*  Number of cookies, number of unique cookies to view the course overview page.\n",
    "\n",
    "\n",
    "The evalution metrics are:\n",
    "*  Net conversion, number of user-ids enrolled past the 14-day boundary for the controll group and number of user-ids enrolled without a trail period for the experiment group divided by the number of unique cookies to click the \"Start free trial\" or the \"Start\" button. \n",
    "\n",
    "\n",
    "The unit of diversion is the a cookie as the the student have not to be logged in to to see the enrollment screen with the ."
   ]
  }
 ],
 "metadata": {
  "kernelspec": {
   "display_name": "Python 3",
   "language": "python",
   "name": "python3"
  },
  "language_info": {
   "codemirror_mode": {
    "name": "ipython",
    "version": 3
   },
   "file_extension": ".py",
   "mimetype": "text/x-python",
   "name": "python",
   "nbconvert_exporter": "python",
   "pygments_lexer": "ipython3",
   "version": "3.6.0"
  }
 },
 "nbformat": 4,
 "nbformat_minor": 2
}
