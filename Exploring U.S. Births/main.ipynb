{
 "cells": [
  {
   "cell_type": "markdown",
   "metadata": {},
   "source": [
    "# Project Description"
   ]
  },
  {
   "cell_type": "markdown",
   "metadata": {},
   "source": [
    "In this project data the number of births per year in the USA for the years 1994 to 2014 is explored. \n",
    "\n",
    "As data two datasets are used the [CDC]() dataset and the [SSA]() dataset both provied by FiveThirtyEight. The CDC dataset contains the number of births for the years 1994 to 2003 and the SSA dataset the births for the years 1994 to 2003\n",
    "Hereto, a [dataset]( https://github.com/fivethirtyeight/data/tree/master/births) compiled by FiveThirtyEight is used. This dataset contains data for the year 2000 to 2014."
   ]
  },
  {
   "cell_type": "markdown",
   "metadata": {},
   "source": [
    "# Import Libaries"
   ]
  },
  {
   "cell_type": "code",
   "execution_count": 1,
   "metadata": {
    "collapsed": false
   },
   "outputs": [],
   "source": [
    "import os\n",
    "import io\n",
    "import urllib.request\n",
    "\n",
    "from IPython.display import display\n",
    "\n",
    "import pandas as pd\n",
    "import numpy as np\n",
    "\n",
    "import matplotlib.pyplot as plt\n",
    "import seaborn"
   ]
  },
  {
   "cell_type": "markdown",
   "metadata": {},
   "source": [
    "# Set Global Variables"
   ]
  },
  {
   "cell_type": "code",
   "execution_count": 2,
   "metadata": {
    "collapsed": false
   },
   "outputs": [],
   "source": [
    "### Set the path to the CDC data\n",
    "URL_CDC = 'https://raw.githubusercontent.com/fivethirtyeight/data/master/births/US_births_1994-2003_CDC_NCHS.csv'\n",
    "PATH_DATASET_CDC = 'data/' + URL_CDC.split('/')[-1]\n",
    "\n",
    "### Set the path to the SSA data\n",
    "URL_SSA = 'https://raw.githubusercontent.com/fivethirtyeight/data/master/births/US_births_2000-2014_SSA.csv'\n",
    "PATH_DATASET_SSA = 'data/' + URL_SSA.split('/')[-1]"
   ]
  },
  {
   "cell_type": "markdown",
   "metadata": {},
   "source": [
    "# Project Preparation"
   ]
  },
  {
   "cell_type": "markdown",
   "metadata": {},
   "source": [
    "## Download the data"
   ]
  },
  {
   "cell_type": "code",
   "execution_count": 3,
   "metadata": {
    "collapsed": false
   },
   "outputs": [],
   "source": [
    "def download_github_csv_data(url):\n",
    "    \"\"\"Download a csv file and stores it in the data folder of the project repository.\n",
    "\n",
    "    Args:\n",
    "        URL of the csv file\n",
    "\n",
    "    Returns:\n",
    "        None\n",
    "    \"\"\"\n",
    "    if not os.path.exists('data/'):\n",
    "        os.makedirs('data/')\n",
    "        \n",
    "    file = urllib.request.urlopen(url)\n",
    "\n",
    "    df = pd.read_csv(io.TextIOWrapper(file))\n",
    "\n",
    "    filename = url.split('/')[-1]\n",
    "    path = 'data/' + filename\n",
    "    \n",
    "    df.to_csv(path, header=True, index=False, sep=',')\n",
    "\n",
    "\"\"\"\n",
    "Downloads the data to the data folder of a local repository after you run it once you can uncomment this lines.\n",
    "To prevent the code from downloading the data every time you run the code.\n",
    "\"\"\"\n",
    "download_github_csv_data(URL_CDC)\n",
    "download_github_csv_data(URL_SSA)"
   ]
  },
  {
   "cell_type": "markdown",
   "metadata": {},
   "source": [
    "## Load the CDC Dataset"
   ]
  },
  {
   "cell_type": "code",
   "execution_count": 4,
   "metadata": {
    "collapsed": false
   },
   "outputs": [
    {
     "data": {
      "text/html": [
       "<div>\n",
       "<table border=\"1\" class=\"dataframe\">\n",
       "  <thead>\n",
       "    <tr style=\"text-align: right;\">\n",
       "      <th></th>\n",
       "      <th>year</th>\n",
       "      <th>month</th>\n",
       "      <th>date_of_month</th>\n",
       "      <th>day_of_week</th>\n",
       "      <th>births</th>\n",
       "    </tr>\n",
       "  </thead>\n",
       "  <tbody>\n",
       "    <tr>\n",
       "      <th>0</th>\n",
       "      <td>1994</td>\n",
       "      <td>1</td>\n",
       "      <td>1</td>\n",
       "      <td>6</td>\n",
       "      <td>8096</td>\n",
       "    </tr>\n",
       "    <tr>\n",
       "      <th>1</th>\n",
       "      <td>1994</td>\n",
       "      <td>1</td>\n",
       "      <td>2</td>\n",
       "      <td>7</td>\n",
       "      <td>7772</td>\n",
       "    </tr>\n",
       "    <tr>\n",
       "      <th>2</th>\n",
       "      <td>1994</td>\n",
       "      <td>1</td>\n",
       "      <td>3</td>\n",
       "      <td>1</td>\n",
       "      <td>10142</td>\n",
       "    </tr>\n",
       "    <tr>\n",
       "      <th>3</th>\n",
       "      <td>1994</td>\n",
       "      <td>1</td>\n",
       "      <td>4</td>\n",
       "      <td>2</td>\n",
       "      <td>11248</td>\n",
       "    </tr>\n",
       "    <tr>\n",
       "      <th>4</th>\n",
       "      <td>1994</td>\n",
       "      <td>1</td>\n",
       "      <td>5</td>\n",
       "      <td>3</td>\n",
       "      <td>11053</td>\n",
       "    </tr>\n",
       "  </tbody>\n",
       "</table>\n",
       "</div>"
      ],
      "text/plain": [
       "   year  month  date_of_month  day_of_week  births\n",
       "0  1994      1              1            6    8096\n",
       "1  1994      1              2            7    7772\n",
       "2  1994      1              3            1   10142\n",
       "3  1994      1              4            2   11248\n",
       "4  1994      1              5            3   11053"
      ]
     },
     "metadata": {},
     "output_type": "display_data"
    }
   ],
   "source": [
    "### Load the data to a df\n",
    "df_cdc = pd.read_csv(PATH_DATASET_CDC)\n",
    "### Inspect the first 5 rows of the dataset\n",
    "display(df_cdc.head())"
   ]
  },
  {
   "cell_type": "markdown",
   "metadata": {},
   "source": [
    "## Load the SSA Dataset"
   ]
  },
  {
   "cell_type": "code",
   "execution_count": 5,
   "metadata": {
    "collapsed": false
   },
   "outputs": [
    {
     "data": {
      "text/html": [
       "<div>\n",
       "<table border=\"1\" class=\"dataframe\">\n",
       "  <thead>\n",
       "    <tr style=\"text-align: right;\">\n",
       "      <th></th>\n",
       "      <th>year</th>\n",
       "      <th>month</th>\n",
       "      <th>date_of_month</th>\n",
       "      <th>day_of_week</th>\n",
       "      <th>births</th>\n",
       "    </tr>\n",
       "  </thead>\n",
       "  <tbody>\n",
       "    <tr>\n",
       "      <th>0</th>\n",
       "      <td>2000</td>\n",
       "      <td>1</td>\n",
       "      <td>1</td>\n",
       "      <td>6</td>\n",
       "      <td>9083</td>\n",
       "    </tr>\n",
       "    <tr>\n",
       "      <th>1</th>\n",
       "      <td>2000</td>\n",
       "      <td>1</td>\n",
       "      <td>2</td>\n",
       "      <td>7</td>\n",
       "      <td>8006</td>\n",
       "    </tr>\n",
       "    <tr>\n",
       "      <th>2</th>\n",
       "      <td>2000</td>\n",
       "      <td>1</td>\n",
       "      <td>3</td>\n",
       "      <td>1</td>\n",
       "      <td>11363</td>\n",
       "    </tr>\n",
       "    <tr>\n",
       "      <th>3</th>\n",
       "      <td>2000</td>\n",
       "      <td>1</td>\n",
       "      <td>4</td>\n",
       "      <td>2</td>\n",
       "      <td>13032</td>\n",
       "    </tr>\n",
       "    <tr>\n",
       "      <th>4</th>\n",
       "      <td>2000</td>\n",
       "      <td>1</td>\n",
       "      <td>5</td>\n",
       "      <td>3</td>\n",
       "      <td>12558</td>\n",
       "    </tr>\n",
       "  </tbody>\n",
       "</table>\n",
       "</div>"
      ],
      "text/plain": [
       "   year  month  date_of_month  day_of_week  births\n",
       "0  2000      1              1            6    9083\n",
       "1  2000      1              2            7    8006\n",
       "2  2000      1              3            1   11363\n",
       "3  2000      1              4            2   13032\n",
       "4  2000      1              5            3   12558"
      ]
     },
     "metadata": {},
     "output_type": "display_data"
    }
   ],
   "source": [
    "#Load the ssa dataset\n",
    "df_ssa = pd.read_csv(PATH_DATASET_SSA)\n",
    "#Print the first five entries\n",
    "display(df_ssa.head())"
   ]
  },
  {
   "cell_type": "markdown",
   "metadata": {},
   "source": [
    "# Analysis"
   ]
  },
  {
   "cell_type": "markdown",
   "metadata": {},
   "source": [
    "## Analysis of the CDC dataset "
   ]
  },
  {
   "cell_type": "code",
   "execution_count": 6,
   "metadata": {
    "collapsed": false
   },
   "outputs": [
    {
     "data": {
      "text/html": [
       "<div>\n",
       "<table border=\"1\" class=\"dataframe\">\n",
       "  <thead>\n",
       "    <tr style=\"text-align: right;\">\n",
       "      <th>year</th>\n",
       "      <th>1994</th>\n",
       "      <th>1995</th>\n",
       "      <th>1996</th>\n",
       "      <th>1997</th>\n",
       "      <th>1998</th>\n",
       "      <th>1999</th>\n",
       "      <th>2000</th>\n",
       "      <th>2001</th>\n",
       "      <th>2002</th>\n",
       "      <th>2003</th>\n",
       "    </tr>\n",
       "  </thead>\n",
       "  <tbody>\n",
       "    <tr>\n",
       "      <th>births</th>\n",
       "      <td>3952767</td>\n",
       "      <td>3899589</td>\n",
       "      <td>3891494</td>\n",
       "      <td>3880894</td>\n",
       "      <td>3941553</td>\n",
       "      <td>3959417</td>\n",
       "      <td>4058814</td>\n",
       "      <td>4025933</td>\n",
       "      <td>4021726</td>\n",
       "      <td>4089950</td>\n",
       "    </tr>\n",
       "  </tbody>\n",
       "</table>\n",
       "</div>"
      ],
      "text/plain": [
       "year       1994     1995     1996     1997     1998     1999     2000  \\\n",
       "births  3952767  3899589  3891494  3880894  3941553  3959417  4058814   \n",
       "\n",
       "year       2001     2002     2003  \n",
       "births  4025933  4021726  4089950  "
      ]
     },
     "metadata": {},
     "output_type": "display_data"
    }
   ],
   "source": [
    "### Count the number of births for years\n",
    "df_cdc_by_year = df_cdc.groupby(['year'], as_index=False).sum()[['year', 'births']]\n",
    "df_cdc_by_year.set_index(['year'], inplace=True)\n",
    "display(df_cdc_by_year.transpose())"
   ]
  },
  {
   "cell_type": "code",
   "execution_count": 7,
   "metadata": {
    "collapsed": false
   },
   "outputs": [
    {
     "data": {
      "text/plain": [
       "count    1.000000e+01\n",
       "mean     3.972214e+06\n",
       "std      7.326511e+04\n",
       "min      3.880894e+06\n",
       "25%      3.910080e+06\n",
       "50%      3.956092e+06\n",
       "75%      4.024881e+06\n",
       "max      4.089950e+06\n",
       "Name: births, dtype: float64"
      ]
     },
     "metadata": {},
     "output_type": "display_data"
    }
   ],
   "source": [
    "### Inspect the point estimators of the dataset\n",
    "display(df_cdc_by_year['births'].describe())"
   ]
  },
  {
   "cell_type": "code",
   "execution_count": 8,
   "metadata": {
    "collapsed": false
   },
   "outputs": [
    {
     "data": {
      "image/png": "[encoded data removed]",
      "text/plain": [
       "<matplotlib.figure.Figure at 0x1e0c5968ac8>"
      ]
     },
     "metadata": {},
     "output_type": "display_data"
    }
   ],
   "source": [
    "### Convert births into births hundreds of thousands\n",
    "df_cdc_by_year['births_in_hundredThousand'] = df_cdc_by_year['births'] / 100000\n",
    "\n",
    "bar_heights = df_cdc_by_year['births_in_hundredThousand'].values\n",
    "bar_positions = np.arange(len(df_cdc_by_year.index))\n",
    "\n",
    "fig, ax = plt.subplots()\n",
    "fig.set_figwidth(18)\n",
    "fig.set_figheight(6)\n",
    "\n",
    "ax.bar(bar_positions, bar_heights, .5, color='silver')\n",
    "ax.set_title('Births per Year')\n",
    "ax.set_xlabel('Year')\n",
    "ax.set_ylabel('Number of Births in Hundreds of Thousands')\n",
    "\n",
    "ax.set_xticks(np.arange(len(df_cdc_by_year.index)))\n",
    "ax.set_xticklabels(df_cdc_by_year.index)\n",
    "\n",
    "ax.set_ylim([30,45])\n",
    "ax.axhline(bar_heights.mean(), color='r', linestyle='dashed', linewidth=1)\n",
    "line_text = 'Avg. number of births in hundreds of thousands (' + str(round(bar_heights.mean(),2)) + ')'\n",
    "ax.text(0, bar_heights.mean() + 0.5 , line_text, color='r')\n",
    "ax.set_facecolor('white')\n",
    "plt.show()"
   ]
  },
  {
   "cell_type": "markdown",
   "metadata": {},
   "source": [
    "## Analyse the births in SSA dataset"
   ]
  },
  {
   "cell_type": "code",
   "execution_count": 9,
   "metadata": {
    "collapsed": false
   },
   "outputs": [
    {
     "data": {
      "text/html": [
       "<div>\n",
       "<table border=\"1\" class=\"dataframe\">\n",
       "  <thead>\n",
       "    <tr style=\"text-align: right;\">\n",
       "      <th>year</th>\n",
       "      <th>2000</th>\n",
       "      <th>2001</th>\n",
       "      <th>2002</th>\n",
       "      <th>2003</th>\n",
       "      <th>2004</th>\n",
       "      <th>2005</th>\n",
       "      <th>2006</th>\n",
       "      <th>2007</th>\n",
       "      <th>2008</th>\n",
       "      <th>2009</th>\n",
       "      <th>2010</th>\n",
       "      <th>2011</th>\n",
       "      <th>2012</th>\n",
       "      <th>2013</th>\n",
       "      <th>2014</th>\n",
       "    </tr>\n",
       "  </thead>\n",
       "  <tbody>\n",
       "    <tr>\n",
       "      <th>births</th>\n",
       "      <td>4149598</td>\n",
       "      <td>4110963</td>\n",
       "      <td>4099313</td>\n",
       "      <td>4163060</td>\n",
       "      <td>4186863</td>\n",
       "      <td>4211941</td>\n",
       "      <td>4335154</td>\n",
       "      <td>4380784</td>\n",
       "      <td>4310737</td>\n",
       "      <td>4190991</td>\n",
       "      <td>4055975</td>\n",
       "      <td>4006908</td>\n",
       "      <td>4000868</td>\n",
       "      <td>3973337</td>\n",
       "      <td>4010532</td>\n",
       "    </tr>\n",
       "  </tbody>\n",
       "</table>\n",
       "</div>"
      ],
      "text/plain": [
       "year       2000     2001     2002     2003     2004     2005     2006  \\\n",
       "births  4149598  4110963  4099313  4163060  4186863  4211941  4335154   \n",
       "\n",
       "year       2007     2008     2009     2010     2011     2012     2013     2014  \n",
       "births  4380784  4310737  4190991  4055975  4006908  4000868  3973337  4010532  "
      ]
     },
     "metadata": {},
     "output_type": "display_data"
    }
   ],
   "source": [
    "#Count the number of births for years\n",
    "df_ssa_by_year = df_ssa.groupby(['year'], as_index=False).sum()[['year', 'births']]\n",
    "df_ssa_by_year.set_index(['year'], inplace=True)\n",
    "display(df_ssa_by_year.transpose())"
   ]
  },
  {
   "cell_type": "code",
   "execution_count": 10,
   "metadata": {
    "collapsed": false
   },
   "outputs": [
    {
     "data": {
      "text/plain": [
       "count    1.500000e+01\n",
       "mean     4.145802e+06\n",
       "std      1.271873e+05\n",
       "min      3.973337e+06\n",
       "25%      4.033254e+06\n",
       "50%      4.149598e+06\n",
       "75%      4.201466e+06\n",
       "max      4.380784e+06\n",
       "Name: births, dtype: float64"
      ]
     },
     "metadata": {},
     "output_type": "display_data"
    }
   ],
   "source": [
    "### Inspect the point estimators of the datasetd\n",
    "display(df_ssa_by_year['births'].describe())"
   ]
  },
  {
   "cell_type": "code",
   "execution_count": 11,
   "metadata": {
    "collapsed": false
   },
   "outputs": [
    {
     "data": {
      "image/png": "[encoded data removed]",
      "text/plain": [
       "<matplotlib.figure.Figure at 0x1e0c5e0d978>"
      ]
     },
     "metadata": {},
     "output_type": "display_data"
    }
   ],
   "source": [
    "### Convert births into births hundreds of thousands\n",
    "df_ssa_by_year['births_in_hundredThousand'] = df_ssa_by_year['births'] / 100000\n",
    "\n",
    "bar_heights = df_ssa_by_year['births_in_hundredThousand'].values\n",
    "bar_positions = np.arange(len(df_ssa_by_year.index))\n",
    "\n",
    "fig, ax = plt.subplots()\n",
    "fig.set_figwidth(18)\n",
    "fig.set_figheight(6)\n",
    "\n",
    "ax.bar(bar_positions, bar_heights, .5, color='silver')\n",
    "ax.set_title('Births per Year')\n",
    "ax.set_xlabel('Year')\n",
    "ax.set_ylabel('Number of Births in Hundreds of Thousands')\n",
    "\n",
    "ax.set_xticks(np.arange(len(df_ssa_by_year.index)))\n",
    "ax.set_xticklabels(df_ssa_by_year.index)\n",
    "\n",
    "ax.set_ylim([30,45])\n",
    "ax.axhline(bar_heights.mean(), color='r', linestyle='dashed', linewidth=1)\n",
    "line_text = 'Avg. number of births in hundreds of thousands (' + str(round(bar_heights.mean(),2)) + ')'\n",
    "ax.text(0, bar_heights.mean() + 0.5 , line_text, color='r')\n",
    "ax.set_facecolor('white')\n",
    "plt.show()"
   ]
  },
  {
   "cell_type": "markdown",
   "metadata": {},
   "source": [
    "# Merge the CDC and the SSA datasets"
   ]
  },
  {
   "cell_type": "code",
   "execution_count": 12,
   "metadata": {
    "collapsed": false
   },
   "outputs": [],
   "source": [
    "def append_mean(df1, df2):\n",
    "    \"\"\"Appends the rows of df1 to df1. \n",
    "    If there a rows with identical index the mean of the two rows is computed and set as new value for this rows\n",
    "\n",
    "    Args:\n",
    "        Two dataframes that should be merged.\n",
    "\n",
    "    Returns:\n",
    "        A new dataset of the merged dataframes\n",
    "    \"\"\"\n",
    "    df = df1.copy()\n",
    "\n",
    "    for key, row in df2.iterrows():\n",
    "\n",
    "        if key in df1.index.values:\n",
    "            df.loc[[key]]['births'] = (df.loc[[key]]['births'] + df2.loc[[key]]['births']) /2\n",
    "            df.loc[[key]]['births_in_hundredThousand'] = (df.loc[[key]]['births_in_hundredThousand'] + df2.loc[[key]]['births_in_hundredThousand']) /2\n",
    "        else:\n",
    "            df = df2.append(row)\n",
    "        \n",
    "    return df\n"
   ]
  },
  {
   "cell_type": "code",
   "execution_count": 13,
   "metadata": {
    "collapsed": false
   },
   "outputs": [
    {
     "data": {
      "text/html": [
       "<div>\n",
       "<table border=\"1\" class=\"dataframe\">\n",
       "  <thead>\n",
       "    <tr style=\"text-align: right;\">\n",
       "      <th>year</th>\n",
       "      <th>2000</th>\n",
       "      <th>2001</th>\n",
       "      <th>2002</th>\n",
       "      <th>2003</th>\n",
       "      <th>2004</th>\n",
       "      <th>2005</th>\n",
       "      <th>2006</th>\n",
       "      <th>2007</th>\n",
       "      <th>2008</th>\n",
       "      <th>2009</th>\n",
       "      <th>2010</th>\n",
       "      <th>2011</th>\n",
       "      <th>2012</th>\n",
       "      <th>2013</th>\n",
       "      <th>2014</th>\n",
       "      <th>2014</th>\n",
       "    </tr>\n",
       "  </thead>\n",
       "  <tbody>\n",
       "    <tr>\n",
       "      <th>births</th>\n",
       "      <td>4.149598e+06</td>\n",
       "      <td>4.110963e+06</td>\n",
       "      <td>4.099313e+06</td>\n",
       "      <td>4.163060e+06</td>\n",
       "      <td>4.186863e+06</td>\n",
       "      <td>4.211941e+06</td>\n",
       "      <td>4.335154e+06</td>\n",
       "      <td>4.380784e+06</td>\n",
       "      <td>4.310737e+06</td>\n",
       "      <td>4.190991e+06</td>\n",
       "      <td>4.055975e+06</td>\n",
       "      <td>4.006908e+06</td>\n",
       "      <td>4.000868e+06</td>\n",
       "      <td>3.973337e+06</td>\n",
       "      <td>4.010532e+06</td>\n",
       "      <td>4.010532e+06</td>\n",
       "    </tr>\n",
       "    <tr>\n",
       "      <th>births_in_hundredThousand</th>\n",
       "      <td>4.149598e+01</td>\n",
       "      <td>4.110963e+01</td>\n",
       "      <td>4.099313e+01</td>\n",
       "      <td>4.163060e+01</td>\n",
       "      <td>4.186863e+01</td>\n",
       "      <td>4.211941e+01</td>\n",
       "      <td>4.335154e+01</td>\n",
       "      <td>4.380784e+01</td>\n",
       "      <td>4.310737e+01</td>\n",
       "      <td>4.190991e+01</td>\n",
       "      <td>4.055975e+01</td>\n",
       "      <td>4.006908e+01</td>\n",
       "      <td>4.000868e+01</td>\n",
       "      <td>3.973337e+01</td>\n",
       "      <td>4.010532e+01</td>\n",
       "      <td>4.010532e+01</td>\n",
       "    </tr>\n",
       "  </tbody>\n",
       "</table>\n",
       "</div>"
      ],
      "text/plain": [
       "year                               2000          2001          2002  \\\n",
       "births                     4.149598e+06  4.110963e+06  4.099313e+06   \n",
       "births_in_hundredThousand  4.149598e+01  4.110963e+01  4.099313e+01   \n",
       "\n",
       "year                               2003          2004          2005  \\\n",
       "births                     4.163060e+06  4.186863e+06  4.211941e+06   \n",
       "births_in_hundredThousand  4.163060e+01  4.186863e+01  4.211941e+01   \n",
       "\n",
       "year                               2006          2007          2008  \\\n",
       "births                     4.335154e+06  4.380784e+06  4.310737e+06   \n",
       "births_in_hundredThousand  4.335154e+01  4.380784e+01  4.310737e+01   \n",
       "\n",
       "year                               2009          2010          2011  \\\n",
       "births                     4.190991e+06  4.055975e+06  4.006908e+06   \n",
       "births_in_hundredThousand  4.190991e+01  4.055975e+01  4.006908e+01   \n",
       "\n",
       "year                               2012          2013          2014  \\\n",
       "births                     4.000868e+06  3.973337e+06  4.010532e+06   \n",
       "births_in_hundredThousand  4.000868e+01  3.973337e+01  4.010532e+01   \n",
       "\n",
       "year                               2014  \n",
       "births                     4.010532e+06  \n",
       "births_in_hundredThousand  4.010532e+01  "
      ]
     },
     "metadata": {},
     "output_type": "display_data"
    }
   ],
   "source": [
    "df_cdc_ssa = append_mean(df_cdc_by_year, df_ssa_by_year)\n",
    "display(df_cdc_ssa.transpose())"
   ]
  },
  {
   "cell_type": "code",
   "execution_count": 14,
   "metadata": {
    "collapsed": false
   },
   "outputs": [
    {
     "data": {
      "text/plain": [
       "count    1.600000e+01\n",
       "mean     4.137347e+06\n",
       "std      1.274432e+05\n",
       "min      3.973337e+06\n",
       "25%      4.010532e+06\n",
       "50%      4.130280e+06\n",
       "75%      4.196228e+06\n",
       "max      4.380784e+06\n",
       "Name: births, dtype: float64"
      ]
     },
     "metadata": {},
     "output_type": "display_data"
    }
   ],
   "source": [
    "display(df_cdc_ssa['births'].describe())"
   ]
  },
  {
   "cell_type": "code",
   "execution_count": 15,
   "metadata": {
    "collapsed": false
   },
   "outputs": [
    {
     "data": {
      "image/png": "[encoded data removed]",
      "text/plain": [
       "<matplotlib.figure.Figure at 0x1e0c6e9c6a0>"
      ]
     },
     "metadata": {},
     "output_type": "display_data"
    }
   ],
   "source": [
    "bar_heights = df_cdc_ssa['births_in_hundredThousand'].values\n",
    "bar_positions = np.arange(len(df_cdc_ssa.index))\n",
    "\n",
    "fig, ax = plt.subplots()\n",
    "fig.set_figwidth(18)\n",
    "fig.set_figheight(6)\n",
    "\n",
    "ax.bar(bar_positions, bar_heights, .5, color='silver')\n",
    "ax.set_title('Births per Year')\n",
    "ax.set_xlabel('Year')\n",
    "ax.set_ylabel('Number of Births in Hundreds of Thousands')\n",
    "\n",
    "ax.set_xticks(np.arange(len(df_cdc_ssa.index)))\n",
    "ax.set_xticklabels(df_cdc_ssa.index)\n",
    "\n",
    "ax.set_ylim([30,45])\n",
    "ax.axhline(bar_heights.mean(), color='r', linestyle='dashed', linewidth=1)\n",
    "line_text = 'Avg. number of births in hundreds of thousands (' + str(round(bar_heights.mean(),2)) + ')'\n",
    "ax.text(0, bar_heights.mean() + 0.5 , line_text, color='r')\n",
    "ax.set_facecolor('white')\n",
    "plt.show()"
   ]
  }
 ],
 "metadata": {
  "anaconda-cloud": {},
  "kernelspec": {
   "display_name": "Python 3",
   "language": "python",
   "name": "python3"
  },
  "language_info": {
   "codemirror_mode": {
    "name": "ipython",
    "version": 3
   },
   "file_extension": ".py",
   "mimetype": "text/x-python",
   "name": "python",
   "nbconvert_exporter": "python",
   "pygments_lexer": "ipython3",
   "version": "3.6.0"
  }
 },
 "nbformat": 4,
 "nbformat_minor": 1
}
